{
 "cells": [
  {
   "cell_type": "code",
   "execution_count": 5,
   "metadata": {
    "collapsed": false
   },
   "outputs": [
   ],
   "source": [
    "import pandas as pd\n",
    "import numpy as np\n",
    "insurance = pd.read_csv('insurance.csv')"
   ]
  },
  {
   "cell_type": "code",
   "execution_count": 6,
   "metadata": {
    "collapsed": false
   },
   "outputs": [
   ],
   "source": [
    "insurance.dropna(inplace = True)\n",
    "insurance.drop_duplicates(inplace = True)\n",
    "insurance = insurance.reset_index(drop=True)\n",
    "\n",
    "length = len(insurance.index)"
   ]
  },
  {
   "cell_type": "code",
   "execution_count": 7,
   "metadata": {
    "collapsed": false
   },
   "outputs": [
   ],
   "source": [
    "def change_to_binary(sex):\n",
    "\n",
    "    if sex == \"male\":\n",
    "        return 0\n",
    "    elif sex == \"female\":\n",
    "        return 1\n",
    "\n",
    "insurance['sex'] = insurance['sex'].apply(change_to_binary)\n",
    "\n",
    "def change_to_binary(smoker):\n",
    "\n",
    "    if smoker == \"yes\":\n",
    "        return 0\n",
    "    elif smoker == \"no\":\n",
    "        return 1\n",
    "insurance['smoker'] = insurance['smoker'].apply(change_to_binary)\n",
    "\n",
    "def change_to_numerical(region):\n",
    "\n",
    "    if region == \"northeast\":\n",
    "        return 0\n",
    "    elif region == \"southeast\":\n",
    "        return 1\n",
    "    elif region == \"northwest\":\n",
    "        return 2\n",
    "    elif region == \"southwest\":\n",
    "        return 3\n",
    "\n",
    "insurance['region'] = insurance['region'].apply(change_to_numerical)"
   ]
  },
  {
   "cell_type": "code",
   "execution_count": 8,
   "metadata": {
    "collapsed": false
   },
   "outputs": [
   ],
   "source": [
    "target = insurance[\"charges\"]\n",
    "input_columns =  insurance.loc[:, insurance.columns != \"charges\"]"
   ]
  },
  {
   "cell_type": "code",
   "execution_count": 9,
   "metadata": {
    "collapsed": false
   },
   "outputs": [
   ],
   "source": [
    "from sklearn.model_selection import train_test_split\n",
    "\n",
    "x_train, x_test, y_train, y_test = train_test_split(input_columns, target, test_size=0.2)"
   ]
  },
  {
   "cell_type": "code",
   "execution_count": 22,
   "metadata": {
    "collapsed": false
   },
   "outputs": [
   ],
   "source": [
    "import sklearn\n",
    "\n",
    "from sklearn import tree\n",
    "\n",
    "rgsr_tree = tree.DecisionTreeRegressor(criterion= 'squared_error',max_depth= 5, max_leaf_nodes= 5, min_impurity_decrease= 1.0, min_samples_leaf= 10)\n",
    "rgsr_tree = rgsr_tree.fit(x_train, y_train)\n",
    "\n",
    "y_tree = clf_tree.predict(x_test)"
   ]
  },
  {
   "cell_type": "code",
   "execution_count": 23,
   "metadata": {
    "collapsed": false
   },
   "outputs": [
    {
     "data": {
      "text/plain": [
       "0.8434288658146752"
      ]
     },
     "execution_count": 23,
     "metadata": {
     },
     "output_type": "execute_result"
    }
   ],
   "source": [
    "rgsr_tree.score(x_test, y_test)"
   ]
  },
  {
   "cell_type": "code",
   "execution_count": 0,
   "metadata": {
    "collapsed": false
   },
   "outputs": [
   ],
   "source": [
   ]
  }
 ],
 "metadata": {
  "kernelspec": {
   "display_name": "Python (ds_env)",
   "language": "python",
   "metadata": {
    "debugger": true
   },
   "name": "ds_env",
   "resource_dir": "/projects/200e8042-15d9-45b5-b665-c79cbc8761e9/.local/share/jupyter/kernels/ds_env"
  },
  "language_info": {
   "codemirror_mode": {
    "name": "ipython",
    "version": 3
   },
   "file_extension": ".py",
   "mimetype": "text/x-python",
   "name": "python",
   "nbconvert_exporter": "python",
   "pygments_lexer": "ipython3",
   "version": "3.8.13"
  }
 },
 "nbformat": 4,
 "nbformat_minor": 4
}