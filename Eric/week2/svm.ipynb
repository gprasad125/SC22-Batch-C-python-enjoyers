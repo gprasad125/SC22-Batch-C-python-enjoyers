{
 "cells": [
  {
   "cell_type": "code",
   "execution_count": 1,
   "metadata": {
    "collapsed": false
   },
   "outputs": [
   ],
   "source": [
    "import numpy as np\n",
    "import matplotlib.pyplot as plt\n",
    "import pandas as pd\n",
    "import seaborn as sns\n",
    "import statistics\n",
    "import plotly.express as px"
   ]
  },
  {
   "cell_type": "code",
   "execution_count": 2,
   "metadata": {
    "collapsed": false
   },
   "outputs": [
   ],
   "source": [
    "filename = 'https://raw.githubusercontent.com/stedy/Machine-Learning-with-R-datasets/master/insurance.csv'\n",
    "my_data = pd.read_csv(filename)\n",
    "my_data.dropna(inplace = True)\n",
    "my_data.drop_duplicates(inplace = True)\n",
    "my_data = my_data.reset_index(drop=True)\n",
    "\n",
    "length = len(my_data.index)"
   ]
  },
  {
   "cell_type": "code",
   "execution_count": 0,
   "metadata": {
    "collapsed": false
   },
   "outputs": [
   ],
   "source": [
   ]
  },
  {
   "cell_type": "code",
   "execution_count": 3,
   "metadata": {
    "collapsed": false
   },
   "outputs": [
   ],
   "source": [
    "#cleaning the data -- dropping missing and duplicate values for sanity\n",
    "my_data.dropna(inplace = True)\n",
    "my_data.drop_duplicates(inplace = True)\n",
    "my_data = my_data.reset_index(drop=True)\n",
    "\n",
    "length = len(my_data.index)"
   ]
  },
  {
   "cell_type": "code",
   "execution_count": 4,
   "metadata": {
    "collapsed": false
   },
   "outputs": [
    {
     "data": {
      "text/plain": [
       "0       1\n",
       "1       0\n",
       "2       0\n",
       "3       0\n",
       "4       0\n",
       "       ..\n",
       "1332    0\n",
       "1333    0\n",
       "1334    0\n",
       "1335    0\n",
       "1336    1\n",
       "Name: smoker, Length: 1337, dtype: int64"
      ]
     },
     "execution_count": 4,
     "metadata": {
     },
     "output_type": "execute_result"
    }
   ],
   "source": [
    "def change_smoke(val):\n",
    "    if val == 'no':\n",
    "        return 0\n",
    "    elif val == 'yes':\n",
    "        return 1\n",
    "my_data['smoker'] = my_data['smoker'].apply(change_smoke)\n",
    "my_data['smoker']"
   ]
  },
  {
   "cell_type": "code",
   "execution_count": 5,
   "metadata": {
    "collapsed": false
   },
   "outputs": [
    {
     "data": {
      "text/plain": [
       "0       0\n",
       "1       1\n",
       "2       1\n",
       "3       2\n",
       "4       2\n",
       "       ..\n",
       "1332    2\n",
       "1333    3\n",
       "1334    1\n",
       "1335    0\n",
       "1336    2\n",
       "Name: region, Length: 1337, dtype: int64"
      ]
     },
     "execution_count": 5,
     "metadata": {
     },
     "output_type": "execute_result"
    }
   ],
   "source": [
    "def change(val):\n",
    "    if val == 'southwest':\n",
    "        return 0\n",
    "    elif val == 'southeast':\n",
    "        return 1\n",
    "    elif val == 'northwest':\n",
    "        return 2\n",
    "    elif val == 'northeast':\n",
    "        return 3\n",
    "my_data['region'] = my_data['region'].apply(change)\n",
    "my_data['region']"
   ]
  },
  {
   "cell_type": "code",
   "execution_count": 6,
   "metadata": {
    "collapsed": false
   },
   "outputs": [
    {
     "data": {
      "text/plain": [
       "0       0\n",
       "1       1\n",
       "2       1\n",
       "3       1\n",
       "4       1\n",
       "       ..\n",
       "1332    1\n",
       "1333    0\n",
       "1334    0\n",
       "1335    0\n",
       "1336    0\n",
       "Name: sex, Length: 1337, dtype: int64"
      ]
     },
     "execution_count": 6,
     "metadata": {
     },
     "output_type": "execute_result"
    }
   ],
   "source": [
    "def change_sex(val):\n",
    "    if val == 'female':\n",
    "        return 0\n",
    "    elif val=='male':\n",
    "        return 1\n",
    "my_data['sex'] = my_data['sex'].apply(change_sex)\n",
    "my_data['sex']"
   ]
  },
  {
   "cell_type": "code",
   "execution_count": 7,
   "metadata": {
    "collapsed": false
   },
   "outputs": [
    {
     "data": {
      "text/plain": [
       "array([[19.  ,  0.  , 27.9 ,  0.  ,  1.  ,  0.  ],\n",
       "       [18.  ,  1.  , 33.77,  1.  ,  0.  ,  1.  ],\n",
       "       [28.  ,  1.  , 33.  ,  3.  ,  0.  ,  1.  ],\n",
       "       ...,\n",
       "       [18.  ,  0.  , 36.85,  0.  ,  0.  ,  1.  ],\n",
       "       [21.  ,  0.  , 25.8 ,  0.  ,  0.  ,  0.  ],\n",
       "       [61.  ,  0.  , 29.07,  0.  ,  1.  ,  2.  ]])"
      ]
     },
     "execution_count": 7,
     "metadata": {
     },
     "output_type": "execute_result"
    }
   ],
   "source": [
    "X = my_data.drop('charges',axis=1)\n",
    "X = X.to_numpy()\n",
    "y = my_data[\"charges\"].to_numpy()\n",
    "X"
   ]
  },
  {
   "cell_type": "code",
   "execution_count": 8,
   "metadata": {
    "collapsed": false
   },
   "outputs": [
   ],
   "source": [
    "from sklearn.model_selection import train_test_split\n",
    "x_train, x_test, y_train, y_test = train_test_split(X, y, test_size = 0.2, random_state = 42)"
   ]
  },
  {
   "cell_type": "code",
   "execution_count": 9,
   "metadata": {
    "collapsed": false
   },
   "outputs": [
    {
     "data": {
      "text/plain": [
       "Pipeline(steps=[('standardscaler', StandardScaler()), ('svr', SVR())])"
      ]
     },
     "execution_count": 9,
     "metadata": {
     },
     "output_type": "execute_result"
    }
   ],
   "source": [
    "from sklearn.svm import SVR\n",
    "from sklearn.pipeline import make_pipeline\n",
    "from sklearn.preprocessing import StandardScaler\n",
    "\n",
    "#regr = make_pipeline(StandardScaler(), SVR(C= 10, coef0=0.01, degree=3, gamma='auto', kernel='linear'))\n",
    "regr = make_pipeline(StandardScaler(), SVR())\n",
    "regr.fit(X,y)"
   ]
  },
  {
   "cell_type": "code",
   "execution_count": 0,
   "metadata": {
    "collapsed": false
   },
   "outputs": [
   ],
   "source": [
   ]
  },
  {
   "cell_type": "code",
   "execution_count": 10,
   "metadata": {
    "collapsed": false
   },
   "outputs": [
    {
     "name": "stdout",
     "output_type": "stream",
     "text": [
      "-0.12338965739569496\n"
     ]
    }
   ],
   "source": [
    "print(regr.score(x_test,y_test))"
   ]
  },
  {
   "cell_type": "code",
   "execution_count": 11,
   "metadata": {
    "collapsed": false
   },
   "outputs": [
   ],
   "source": [
    "y_hat = regr.predict(x_test)\n"
   ]
  },
  {
   "cell_type": "code",
   "execution_count": 10,
   "metadata": {
    "collapsed": false
   },
   "outputs": [
    {
     "name": "stdout",
     "output_type": "stream",
     "text": [
      "Fitting 5 folds for each of 108 candidates, totalling 540 fits\n",
      "[CV] END C=1, coef0=0.01, degree=3, gamma=auto, kernel=linear; total time=   0.1s\n",
      "[CV] END C=1, coef0=0.01, degree=3, gamma=auto, kernel=linear; total time=   0.1s\n"
     ]
    },
    {
     "name": "stdout",
     "output_type": "stream",
     "text": [
      "[CV] END C=1, coef0=0.01, degree=3, gamma=auto, kernel=linear; total time=   0.1s\n",
      "[CV] END C=1, coef0=0.01, degree=3, gamma=auto, kernel=linear; total time=   0.1s\n",
      "[CV] END C=1, coef0=0.01, degree=3, gamma=auto, kernel=linear; total time=   0.1s\n"
     ]
    },
    {
     "name": "stdout",
     "output_type": "stream",
     "text": [
      "[CV] END ..C=1, coef0=0.01, degree=3, gamma=auto, kernel=rbf; total time=   0.1s\n",
      "[CV] END ..C=1, coef0=0.01, degree=3, gamma=auto, kernel=rbf; total time=   0.1s\n"
     ]
    },
    {
     "name": "stdout",
     "output_type": "stream",
     "text": [
      "[CV] END ..C=1, coef0=0.01, degree=3, gamma=auto, kernel=rbf; total time=   0.1s\n",
      "[CV] END ..C=1, coef0=0.01, degree=3, gamma=auto, kernel=rbf; total time=   0.1s\n"
     ]
    },
    {
     "name": "stdout",
     "output_type": "stream",
     "text": [
      "[CV] END ..C=1, coef0=0.01, degree=3, gamma=auto, kernel=rbf; total time=   0.1s\n",
      "[CV] END C=1, coef0=0.01, degree=3, gamma=auto, kernel=sigmoid; total time=   0.1s\n",
      "[CV] END C=1, coef0=0.01, degree=3, gamma=auto, kernel=sigmoid; total time=   0.1s\n",
      "[CV] END C=1, coef0=0.01, degree=3, gamma=auto, kernel=sigmoid; total time=   0.1s\n"
     ]
    },
    {
     "name": "stdout",
     "output_type": "stream",
     "text": [
      "[CV] END C=1, coef0=0.01, degree=3, gamma=auto, kernel=sigmoid; total time=   0.1s\n",
      "[CV] END C=1, coef0=0.01, degree=3, gamma=auto, kernel=sigmoid; total time=   0.1s\n",
      "[CV] END C=1, coef0=0.01, degree=3, gamma=scale, kernel=linear; total time=   0.1s\n"
     ]
    },
    {
     "name": "stdout",
     "output_type": "stream",
     "text": [
      "[CV] END C=1, coef0=0.01, degree=3, gamma=scale, kernel=linear; total time=   0.1s\n",
      "[CV] END C=1, coef0=0.01, degree=3, gamma=scale, kernel=linear; total time=   0.1s\n",
      "[CV] END C=1, coef0=0.01, degree=3, gamma=scale, kernel=linear; total time=   0.1s\n"
     ]
    },
    {
     "name": "stdout",
     "output_type": "stream",
     "text": [
      "[CV] END C=1, coef0=0.01, degree=3, gamma=scale, kernel=linear; total time=   0.1s\n",
      "[CV] END .C=1, coef0=0.01, degree=3, gamma=scale, kernel=rbf; total time=   0.1s\n",
      "[CV] END .C=1, coef0=0.01, degree=3, gamma=scale, kernel=rbf; total time=   0.1s\n"
     ]
    },
    {
     "name": "stdout",
     "output_type": "stream",
     "text": [
      "[CV] END .C=1, coef0=0.01, degree=3, gamma=scale, kernel=rbf; total time=   0.1s\n",
      "[CV] END .C=1, coef0=0.01, degree=3, gamma=scale, kernel=rbf; total time=   0.1s\n",
      "[CV] END .C=1, coef0=0.01, degree=3, gamma=scale, kernel=rbf; total time=   0.1s\n"
     ]
    },
    {
     "name": "stdout",
     "output_type": "stream",
     "text": [
      "[CV] END C=1, coef0=0.01, degree=3, gamma=scale, kernel=sigmoid; total time=   0.1s\n",
      "[CV] END C=1, coef0=0.01, degree=3, gamma=scale, kernel=sigmoid; total time=   0.1s\n"
     ]
    },
    {
     "name": "stdout",
     "output_type": "stream",
     "text": [
      "[CV] END C=1, coef0=0.01, degree=3, gamma=scale, kernel=sigmoid; total time=   0.1s\n",
      "[CV] END C=1, coef0=0.01, degree=3, gamma=scale, kernel=sigmoid; total time=   0.1s\n"
     ]
    },
    {
     "name": "stdout",
     "output_type": "stream",
     "text": [
      "[CV] END C=1, coef0=0.01, degree=3, gamma=scale, kernel=sigmoid; total time=   0.1s\n",
      "[CV] END C=1, coef0=0.01, degree=8, gamma=auto, kernel=linear; total time=   0.1s\n",
      "[CV] END C=1, coef0=0.01, degree=8, gamma=auto, kernel=linear; total time=   0.1s\n"
     ]
    },
    {
     "name": "stdout",
     "output_type": "stream",
     "text": [
      "[CV] END C=1, coef0=0.01, degree=8, gamma=auto, kernel=linear; total time=   0.1s\n",
      "[CV] END C=1, coef0=0.01, degree=8, gamma=auto, kernel=linear; total time=   0.1s\n",
      "[CV] END C=1, coef0=0.01, degree=8, gamma=auto, kernel=linear; total time=   0.1s\n"
     ]
    },
    {
     "name": "stdout",
     "output_type": "stream",
     "text": [
      "[CV] END ..C=1, coef0=0.01, degree=8, gamma=auto, kernel=rbf; total time=   0.1s\n",
      "[CV] END ..C=1, coef0=0.01, degree=8, gamma=auto, kernel=rbf; total time=   0.1s\n"
     ]
    },
    {
     "name": "stdout",
     "output_type": "stream",
     "text": [
      "[CV] END ..C=1, coef0=0.01, degree=8, gamma=auto, kernel=rbf; total time=   0.1s\n",
      "[CV] END ..C=1, coef0=0.01, degree=8, gamma=auto, kernel=rbf; total time=   0.1s\n"
     ]
    },
    {
     "name": "stdout",
     "output_type": "stream",
     "text": [
      "[CV] END ..C=1, coef0=0.01, degree=8, gamma=auto, kernel=rbf; total time=   0.1s\n",
      "[CV] END C=1, coef0=0.01, degree=8, gamma=auto, kernel=sigmoid; total time=   0.1s\n",
      "[CV] END C=1, coef0=0.01, degree=8, gamma=auto, kernel=sigmoid; total time=   0.1s\n",
      "[CV] END C=1, coef0=0.01, degree=8, gamma=auto, kernel=sigmoid; total time=   0.1s\n"
     ]
    },
    {
     "name": "stdout",
     "output_type": "stream",
     "text": [
      "[CV] END C=1, coef0=0.01, degree=8, gamma=auto, kernel=sigmoid; total time=   0.1s\n",
      "[CV] END C=1, coef0=0.01, degree=8, gamma=auto, kernel=sigmoid; total time=   0.1s\n",
      "[CV] END C=1, coef0=0.01, degree=8, gamma=scale, kernel=linear; total time=   0.1s\n"
     ]
    },
    {
     "name": "stdout",
     "output_type": "stream",
     "text": [
      "[CV] END C=1, coef0=0.01, degree=8, gamma=scale, kernel=linear; total time=   0.1s\n",
      "[CV] END C=1, coef0=0.01, degree=8, gamma=scale, kernel=linear; total time=   0.1s\n",
      "[CV] END C=1, coef0=0.01, degree=8, gamma=scale, kernel=linear; total time=   0.1s\n"
     ]
    },
    {
     "name": "stdout",
     "output_type": "stream",
     "text": [
      "[CV] END C=1, coef0=0.01, degree=8, gamma=scale, kernel=linear; total time=   0.1s\n",
      "[CV] END .C=1, coef0=0.01, degree=8, gamma=scale, kernel=rbf; total time=   0.1s\n",
      "[CV] END .C=1, coef0=0.01, degree=8, gamma=scale, kernel=rbf; total time=   0.1s\n"
     ]
    },
    {
     "name": "stdout",
     "output_type": "stream",
     "text": [
      "[CV] END .C=1, coef0=0.01, degree=8, gamma=scale, kernel=rbf; total time=   0.1s\n",
      "[CV] END .C=1, coef0=0.01, degree=8, gamma=scale, kernel=rbf; total time=   0.1s\n"
     ]
    },
    {
     "name": "stdout",
     "output_type": "stream",
     "text": [
      "[CV] END .C=1, coef0=0.01, degree=8, gamma=scale, kernel=rbf; total time=   0.1s\n",
      "[CV] END C=1, coef0=0.01, degree=8, gamma=scale, kernel=sigmoid; total time=   0.1s\n"
     ]
    },
    {
     "name": "stdout",
     "output_type": "stream",
     "text": [
      "[CV] END C=1, coef0=0.01, degree=8, gamma=scale, kernel=sigmoid; total time=   0.1s\n",
      "[CV] END C=1, coef0=0.01, degree=8, gamma=scale, kernel=sigmoid; total time=   0.1s\n"
     ]
    },
    {
     "name": "stdout",
     "output_type": "stream",
     "text": [
      "[CV] END C=1, coef0=0.01, degree=8, gamma=scale, kernel=sigmoid; total time=   0.1s\n",
      "[CV] END C=1, coef0=0.01, degree=8, gamma=scale, kernel=sigmoid; total time=   0.1s\n",
      "[CV] END .C=1, coef0=10, degree=3, gamma=auto, kernel=linear; total time=   0.1s\n"
     ]
    },
    {
     "name": "stdout",
     "output_type": "stream",
     "text": [
      "[CV] END .C=1, coef0=10, degree=3, gamma=auto, kernel=linear; total time=   0.1s\n",
      "[CV] END .C=1, coef0=10, degree=3, gamma=auto, kernel=linear; total time=   0.1s\n",
      "[CV] END .C=1, coef0=10, degree=3, gamma=auto, kernel=linear; total time=   0.1s\n"
     ]
    },
    {
     "name": "stdout",
     "output_type": "stream",
     "text": [
      "[CV] END .C=1, coef0=10, degree=3, gamma=auto, kernel=linear; total time=   0.1s\n",
      "[CV] END ....C=1, coef0=10, degree=3, gamma=auto, kernel=rbf; total time=   0.1s\n"
     ]
    },
    {
     "name": "stdout",
     "output_type": "stream",
     "text": [
      "[CV] END ....C=1, coef0=10, degree=3, gamma=auto, kernel=rbf; total time=   0.1s\n",
      "[CV] END ....C=1, coef0=10, degree=3, gamma=auto, kernel=rbf; total time=   0.1s\n"
     ]
    },
    {
     "name": "stdout",
     "output_type": "stream",
     "text": [
      "[CV] END ....C=1, coef0=10, degree=3, gamma=auto, kernel=rbf; total time=   0.1s\n",
      "[CV] END ....C=1, coef0=10, degree=3, gamma=auto, kernel=rbf; total time=   0.1s\n",
      "[CV] END C=1, coef0=10, degree=3, gamma=auto, kernel=sigmoid; total time=   0.1s\n"
     ]
    },
    {
     "name": "stdout",
     "output_type": "stream",
     "text": [
      "[CV] END C=1, coef0=10, degree=3, gamma=auto, kernel=sigmoid; total time=   0.1s\n",
      "[CV] END C=1, coef0=10, degree=3, gamma=auto, kernel=sigmoid; total time=   0.1s\n",
      "[CV] END C=1, coef0=10, degree=3, gamma=auto, kernel=sigmoid; total time=   0.1s\n",
      "[CV] END C=1, coef0=10, degree=3, gamma=auto, kernel=sigmoid; total time=   0.1s\n"
     ]
    },
    {
     "name": "stdout",
     "output_type": "stream",
     "text": [
      "[CV] END C=1, coef0=10, degree=3, gamma=scale, kernel=linear; total time=   0.1s\n",
      "[CV] END C=1, coef0=10, degree=3, gamma=scale, kernel=linear; total time=   0.1s\n",
      "[CV] END C=1, coef0=10, degree=3, gamma=scale, kernel=linear; total time=   0.1s\n"
     ]
    },
    {
     "name": "stdout",
     "output_type": "stream",
     "text": [
      "[CV] END C=1, coef0=10, degree=3, gamma=scale, kernel=linear; total time=   0.1s\n",
      "[CV] END C=1, coef0=10, degree=3, gamma=scale, kernel=linear; total time=   0.1s\n",
      "[CV] END ...C=1, coef0=10, degree=3, gamma=scale, kernel=rbf; total time=   0.1s\n"
     ]
    },
    {
     "name": "stdout",
     "output_type": "stream",
     "text": [
      "[CV] END ...C=1, coef0=10, degree=3, gamma=scale, kernel=rbf; total time=   0.1s\n",
      "[CV] END ...C=1, coef0=10, degree=3, gamma=scale, kernel=rbf; total time=   0.1s\n",
      "[CV] END ...C=1, coef0=10, degree=3, gamma=scale, kernel=rbf; total time=   0.1s\n"
     ]
    },
    {
     "name": "stdout",
     "output_type": "stream",
     "text": [
      "[CV] END ...C=1, coef0=10, degree=3, gamma=scale, kernel=rbf; total time=   0.1s\n",
      "[CV] END C=1, coef0=10, degree=3, gamma=scale, kernel=sigmoid; total time=   0.1s\n"
     ]
    },
    {
     "name": "stdout",
     "output_type": "stream",
     "text": [
      "[CV] END C=1, coef0=10, degree=3, gamma=scale, kernel=sigmoid; total time=   0.1s\n",
      "[CV] END C=1, coef0=10, degree=3, gamma=scale, kernel=sigmoid; total time=   0.1s\n"
     ]
    },
    {
     "name": "stdout",
     "output_type": "stream",
     "text": [
      "[CV] END C=1, coef0=10, degree=3, gamma=scale, kernel=sigmoid; total time=   0.1s\n",
      "[CV] END C=1, coef0=10, degree=3, gamma=scale, kernel=sigmoid; total time=   0.1s\n",
      "[CV] END .C=1, coef0=10, degree=8, gamma=auto, kernel=linear; total time=   0.1s\n"
     ]
    },
    {
     "name": "stdout",
     "output_type": "stream",
     "text": [
      "[CV] END .C=1, coef0=10, degree=8, gamma=auto, kernel=linear; total time=   0.1s\n",
      "[CV] END .C=1, coef0=10, degree=8, gamma=auto, kernel=linear; total time=   0.1s\n",
      "[CV] END .C=1, coef0=10, degree=8, gamma=auto, kernel=linear; total time=   0.1s\n"
     ]
    },
    {
     "name": "stdout",
     "output_type": "stream",
     "text": [
      "[CV] END .C=1, coef0=10, degree=8, gamma=auto, kernel=linear; total time=   0.1s\n",
      "[CV] END ....C=1, coef0=10, degree=8, gamma=auto, kernel=rbf; total time=   0.1s\n"
     ]
    },
    {
     "name": "stdout",
     "output_type": "stream",
     "text": [
      "[CV] END ....C=1, coef0=10, degree=8, gamma=auto, kernel=rbf; total time=   0.1s\n",
      "[CV] END ....C=1, coef0=10, degree=8, gamma=auto, kernel=rbf; total time=   0.1s\n"
     ]
    },
    {
     "name": "stdout",
     "output_type": "stream",
     "text": [
      "[CV] END ....C=1, coef0=10, degree=8, gamma=auto, kernel=rbf; total time=   0.1s\n",
      "[CV] END ....C=1, coef0=10, degree=8, gamma=auto, kernel=rbf; total time=   0.1s\n",
      "[CV] END C=1, coef0=10, degree=8, gamma=auto, kernel=sigmoid; total time=   0.1s\n"
     ]
    },
    {
     "name": "stdout",
     "output_type": "stream",
     "text": [
      "[CV] END C=1, coef0=10, degree=8, gamma=auto, kernel=sigmoid; total time=   0.2s\n",
      "[CV] END C=1, coef0=10, degree=8, gamma=auto, kernel=sigmoid; total time=   0.1s\n",
      "[CV] END C=1, coef0=10, degree=8, gamma=auto, kernel=sigmoid; total time=   0.1s\n",
      "[CV] END C=1, coef0=10, degree=8, gamma=auto, kernel=sigmoid; total time=   0.1s\n"
     ]
    },
    {
     "name": "stdout",
     "output_type": "stream",
     "text": [
      "[CV] END C=1, coef0=10, degree=8, gamma=scale, kernel=linear; total time=   0.1s\n",
      "[CV] END C=1, coef0=10, degree=8, gamma=scale, kernel=linear; total time=   0.1s\n",
      "[CV] END C=1, coef0=10, degree=8, gamma=scale, kernel=linear; total time=   0.1s\n"
     ]
    },
    {
     "name": "stdout",
     "output_type": "stream",
     "text": [
      "[CV] END C=1, coef0=10, degree=8, gamma=scale, kernel=linear; total time=   0.1s\n",
      "[CV] END C=1, coef0=10, degree=8, gamma=scale, kernel=linear; total time=   0.1s\n",
      "[CV] END ...C=1, coef0=10, degree=8, gamma=scale, kernel=rbf; total time=   0.1s\n"
     ]
    },
    {
     "name": "stdout",
     "output_type": "stream",
     "text": [
      "[CV] END ...C=1, coef0=10, degree=8, gamma=scale, kernel=rbf; total time=   0.1s\n",
      "[CV] END ...C=1, coef0=10, degree=8, gamma=scale, kernel=rbf; total time=   0.1s\n",
      "[CV] END ...C=1, coef0=10, degree=8, gamma=scale, kernel=rbf; total time=   0.1s\n"
     ]
    },
    {
     "name": "stdout",
     "output_type": "stream",
     "text": [
      "[CV] END ...C=1, coef0=10, degree=8, gamma=scale, kernel=rbf; total time=   0.1s\n",
      "[CV] END C=1, coef0=10, degree=8, gamma=scale, kernel=sigmoid; total time=   0.1s\n"
     ]
    },
    {
     "name": "stdout",
     "output_type": "stream",
     "text": [
      "[CV] END C=1, coef0=10, degree=8, gamma=scale, kernel=sigmoid; total time=   0.1s\n",
      "[CV] END C=1, coef0=10, degree=8, gamma=scale, kernel=sigmoid; total time=   0.1s\n"
     ]
    },
    {
     "name": "stdout",
     "output_type": "stream",
     "text": [
      "[CV] END C=1, coef0=10, degree=8, gamma=scale, kernel=sigmoid; total time=   0.1s\n",
      "[CV] END C=1, coef0=10, degree=8, gamma=scale, kernel=sigmoid; total time=   0.1s\n",
      "[CV] END C=1, coef0=0.5, degree=3, gamma=auto, kernel=linear; total time=   0.1s\n"
     ]
    },
    {
     "name": "stdout",
     "output_type": "stream",
     "text": [
      "[CV] END C=1, coef0=0.5, degree=3, gamma=auto, kernel=linear; total time=   0.1s\n",
      "[CV] END C=1, coef0=0.5, degree=3, gamma=auto, kernel=linear; total time=   0.1s\n",
      "[CV] END C=1, coef0=0.5, degree=3, gamma=auto, kernel=linear; total time=   0.1s\n"
     ]
    },
    {
     "name": "stdout",
     "output_type": "stream",
     "text": [
      "[CV] END C=1, coef0=0.5, degree=3, gamma=auto, kernel=linear; total time=   0.1s\n",
      "[CV] END ...C=1, coef0=0.5, degree=3, gamma=auto, kernel=rbf; total time=   0.1s\n"
     ]
    },
    {
     "name": "stdout",
     "output_type": "stream",
     "text": [
      "[CV] END ...C=1, coef0=0.5, degree=3, gamma=auto, kernel=rbf; total time=   0.1s\n",
      "[CV] END ...C=1, coef0=0.5, degree=3, gamma=auto, kernel=rbf; total time=   0.1s\n"
     ]
    },
    {
     "name": "stdout",
     "output_type": "stream",
     "text": [
      "[CV] END ...C=1, coef0=0.5, degree=3, gamma=auto, kernel=rbf; total time=   0.1s\n",
      "[CV] END ...C=1, coef0=0.5, degree=3, gamma=auto, kernel=rbf; total time=   0.1s\n",
      "[CV] END C=1, coef0=0.5, degree=3, gamma=auto, kernel=sigmoid; total time=   0.1s\n"
     ]
    },
    {
     "name": "stdout",
     "output_type": "stream",
     "text": [
      "[CV] END C=1, coef0=0.5, degree=3, gamma=auto, kernel=sigmoid; total time=   0.1s\n",
      "[CV] END C=1, coef0=0.5, degree=3, gamma=auto, kernel=sigmoid; total time=   0.1s\n",
      "[CV] END C=1, coef0=0.5, degree=3, gamma=auto, kernel=sigmoid; total time=   0.1s\n",
      "[CV] END C=1, coef0=0.5, degree=3, gamma=auto, kernel=sigmoid; total time=   0.1s\n"
     ]
    },
    {
     "name": "stdout",
     "output_type": "stream",
     "text": [
      "[CV] END C=1, coef0=0.5, degree=3, gamma=scale, kernel=linear; total time=   0.1s\n",
      "[CV] END C=1, coef0=0.5, degree=3, gamma=scale, kernel=linear; total time=   0.1s\n",
      "[CV] END C=1, coef0=0.5, degree=3, gamma=scale, kernel=linear; total time=   0.1s\n"
     ]
    },
    {
     "name": "stdout",
     "output_type": "stream",
     "text": [
      "[CV] END C=1, coef0=0.5, degree=3, gamma=scale, kernel=linear; total time=   0.1s\n",
      "[CV] END C=1, coef0=0.5, degree=3, gamma=scale, kernel=linear; total time=   0.1s\n",
      "[CV] END ..C=1, coef0=0.5, degree=3, gamma=scale, kernel=rbf; total time=   0.1s\n"
     ]
    },
    {
     "name": "stdout",
     "output_type": "stream",
     "text": [
      "[CV] END ..C=1, coef0=0.5, degree=3, gamma=scale, kernel=rbf; total time=   0.1s\n",
      "[CV] END ..C=1, coef0=0.5, degree=3, gamma=scale, kernel=rbf; total time=   0.1s\n",
      "[CV] END ..C=1, coef0=0.5, degree=3, gamma=scale, kernel=rbf; total time=   0.1s\n"
     ]
    },
    {
     "name": "stdout",
     "output_type": "stream",
     "text": [
      "[CV] END ..C=1, coef0=0.5, degree=3, gamma=scale, kernel=rbf; total time=   0.1s\n",
      "[CV] END C=1, coef0=0.5, degree=3, gamma=scale, kernel=sigmoid; total time=   0.1s\n"
     ]
    },
    {
     "name": "stdout",
     "output_type": "stream",
     "text": [
      "[CV] END C=1, coef0=0.5, degree=3, gamma=scale, kernel=sigmoid; total time=   0.1s\n",
      "[CV] END C=1, coef0=0.5, degree=3, gamma=scale, kernel=sigmoid; total time=   0.1s\n"
     ]
    },
    {
     "name": "stdout",
     "output_type": "stream",
     "text": [
      "[CV] END C=1, coef0=0.5, degree=3, gamma=scale, kernel=sigmoid; total time=   0.1s\n",
      "[CV] END C=1, coef0=0.5, degree=3, gamma=scale, kernel=sigmoid; total time=   0.1s\n",
      "[CV] END C=1, coef0=0.5, degree=8, gamma=auto, kernel=linear; total time=   0.1s\n"
     ]
    },
    {
     "name": "stdout",
     "output_type": "stream",
     "text": [
      "[CV] END C=1, coef0=0.5, degree=8, gamma=auto, kernel=linear; total time=   0.1s\n",
      "[CV] END C=1, coef0=0.5, degree=8, gamma=auto, kernel=linear; total time=   0.1s\n",
      "[CV] END C=1, coef0=0.5, degree=8, gamma=auto, kernel=linear; total time=   0.1s\n"
     ]
    },
    {
     "name": "stdout",
     "output_type": "stream",
     "text": [
      "[CV] END C=1, coef0=0.5, degree=8, gamma=auto, kernel=linear; total time=   0.1s\n",
      "[CV] END ...C=1, coef0=0.5, degree=8, gamma=auto, kernel=rbf; total time=   0.1s\n"
     ]
    },
    {
     "name": "stdout",
     "output_type": "stream",
     "text": [
      "[CV] END ...C=1, coef0=0.5, degree=8, gamma=auto, kernel=rbf; total time=   0.1s\n",
      "[CV] END ...C=1, coef0=0.5, degree=8, gamma=auto, kernel=rbf; total time=   0.1s\n",
      "[CV] END ...C=1, coef0=0.5, degree=8, gamma=auto, kernel=rbf; total time=   0.1s"
     ]
    },
    {
     "name": "stdout",
     "output_type": "stream",
     "text": [
      "\n",
      "[CV] END ...C=1, coef0=0.5, degree=8, gamma=auto, kernel=rbf; total time=   0.1s\n",
      "[CV] END C=1, coef0=0.5, degree=8, gamma=auto, kernel=sigmoid; total time=   0.1s\n"
     ]
    },
    {
     "name": "stdout",
     "output_type": "stream",
     "text": [
      "[CV] END C=1, coef0=0.5, degree=8, gamma=auto, kernel=sigmoid; total time=   0.1s\n",
      "[CV] END C=1, coef0=0.5, degree=8, gamma=auto, kernel=sigmoid; total time=   0.1s\n",
      "[CV] END C=1, coef0=0.5, degree=8, gamma=auto, kernel=sigmoid; total time=   0.1s\n",
      "[CV] END C=1, coef0=0.5, degree=8, gamma=auto, kernel=sigmoid; total time=   0.1s\n"
     ]
    },
    {
     "name": "stdout",
     "output_type": "stream",
     "text": [
      "[CV] END C=1, coef0=0.5, degree=8, gamma=scale, kernel=linear; total time=   0.1s\n",
      "[CV] END C=1, coef0=0.5, degree=8, gamma=scale, kernel=linear; total time=   0.1s\n",
      "[CV] END C=1, coef0=0.5, degree=8, gamma=scale, kernel=linear; total time=   0.1s\n"
     ]
    },
    {
     "name": "stdout",
     "output_type": "stream",
     "text": [
      "[CV] END C=1, coef0=0.5, degree=8, gamma=scale, kernel=linear; total time=   0.1s\n",
      "[CV] END C=1, coef0=0.5, degree=8, gamma=scale, kernel=linear; total time=   0.1s\n",
      "[CV] END ..C=1, coef0=0.5, degree=8, gamma=scale, kernel=rbf; total time=   0.1s\n"
     ]
    },
    {
     "name": "stdout",
     "output_type": "stream",
     "text": [
      "[CV] END ..C=1, coef0=0.5, degree=8, gamma=scale, kernel=rbf; total time=   0.1s\n",
      "[CV] END ..C=1, coef0=0.5, degree=8, gamma=scale, kernel=rbf; total time=   0.1s\n",
      "[CV] END ..C=1, coef0=0.5, degree=8, gamma=scale, kernel=rbf; total time=   0.1s\n"
     ]
    },
    {
     "name": "stdout",
     "output_type": "stream",
     "text": [
      "[CV] END ..C=1, coef0=0.5, degree=8, gamma=scale, kernel=rbf; total time=   0.1s\n",
      "[CV] END C=1, coef0=0.5, degree=8, gamma=scale, kernel=sigmoid; total time=   0.1s\n"
     ]
    },
    {
     "name": "stdout",
     "output_type": "stream",
     "text": [
      "[CV] END C=1, coef0=0.5, degree=8, gamma=scale, kernel=sigmoid; total time=   0.2s\n",
      "[CV] END C=1, coef0=0.5, degree=8, gamma=scale, kernel=sigmoid; total time=   0.1s\n"
     ]
    },
    {
     "name": "stdout",
     "output_type": "stream",
     "text": [
      "[CV] END C=1, coef0=0.5, degree=8, gamma=scale, kernel=sigmoid; total time=   0.1s\n",
      "[CV] END C=1, coef0=0.5, degree=8, gamma=scale, kernel=sigmoid; total time=   0.1s\n"
     ]
    },
    {
     "name": "stdout",
     "output_type": "stream",
     "text": [
      "[CV] END C=5, coef0=0.01, degree=3, gamma=auto, kernel=linear; total time=   0.1s\n",
      "[CV] END C=5, coef0=0.01, degree=3, gamma=auto, kernel=linear; total time=   0.1s\n",
      "[CV] END C=5, coef0=0.01, degree=3, gamma=auto, kernel=linear; total time=   0.1s\n"
     ]
    },
    {
     "name": "stdout",
     "output_type": "stream",
     "text": [
      "[CV] END C=5, coef0=0.01, degree=3, gamma=auto, kernel=linear; total time=   0.1s\n",
      "[CV] END C=5, coef0=0.01, degree=3, gamma=auto, kernel=linear; total time=   0.1s\n",
      "[CV] END ..C=5, coef0=0.01, degree=3, gamma=auto, kernel=rbf; total time=   0.1s\n"
     ]
    },
    {
     "name": "stdout",
     "output_type": "stream",
     "text": [
      "[CV] END ..C=5, coef0=0.01, degree=3, gamma=auto, kernel=rbf; total time=   0.1s\n",
      "[CV] END ..C=5, coef0=0.01, degree=3, gamma=auto, kernel=rbf; total time=   0.1s\n"
     ]
    },
    {
     "name": "stdout",
     "output_type": "stream",
     "text": [
      "[CV] END ..C=5, coef0=0.01, degree=3, gamma=auto, kernel=rbf; total time=   0.1s\n",
      "[CV] END ..C=5, coef0=0.01, degree=3, gamma=auto, kernel=rbf; total time=   0.1s\n",
      "[CV] END C=5, coef0=0.01, degree=3, gamma=auto, kernel=sigmoid; total time=   0.1s\n"
     ]
    },
    {
     "name": "stdout",
     "output_type": "stream",
     "text": [
      "[CV] END C=5, coef0=0.01, degree=3, gamma=auto, kernel=sigmoid; total time=   0.1s\n",
      "[CV] END C=5, coef0=0.01, degree=3, gamma=auto, kernel=sigmoid; total time=   0.1s\n",
      "[CV] END C=5, coef0=0.01, degree=3, gamma=auto, kernel=sigmoid; total time=   0.1s\n",
      "[CV] END C=5, coef0=0.01, degree=3, gamma=auto, kernel=sigmoid; total time=   0.1s\n"
     ]
    },
    {
     "name": "stdout",
     "output_type": "stream",
     "text": [
      "[CV] END C=5, coef0=0.01, degree=3, gamma=scale, kernel=linear; total time=   0.1s\n",
      "[CV] END C=5, coef0=0.01, degree=3, gamma=scale, kernel=linear; total time=   0.1s\n",
      "[CV] END C=5, coef0=0.01, degree=3, gamma=scale, kernel=linear; total time=   0.1s\n"
     ]
    },
    {
     "name": "stdout",
     "output_type": "stream",
     "text": [
      "[CV] END C=5, coef0=0.01, degree=3, gamma=scale, kernel=linear; total time=   0.1s\n",
      "[CV] END C=5, coef0=0.01, degree=3, gamma=scale, kernel=linear; total time=   0.1s\n",
      "[CV] END .C=5, coef0=0.01, degree=3, gamma=scale, kernel=rbf; total time=   0.1s\n"
     ]
    },
    {
     "name": "stdout",
     "output_type": "stream",
     "text": [
      "[CV] END .C=5, coef0=0.01, degree=3, gamma=scale, kernel=rbf; total time=   0.1s\n",
      "[CV] END .C=5, coef0=0.01, degree=3, gamma=scale, kernel=rbf; total time=   0.1s\n",
      "[CV] END .C=5, coef0=0.01, degree=3, gamma=scale, kernel=rbf; total time=   0.1s\n"
     ]
    },
    {
     "name": "stdout",
     "output_type": "stream",
     "text": [
      "[CV] END .C=5, coef0=0.01, degree=3, gamma=scale, kernel=rbf; total time=   0.1s\n",
      "[CV] END C=5, coef0=0.01, degree=3, gamma=scale, kernel=sigmoid; total time=   0.1s\n"
     ]
    },
    {
     "name": "stdout",
     "output_type": "stream",
     "text": [
      "[CV] END C=5, coef0=0.01, degree=3, gamma=scale, kernel=sigmoid; total time=   0.1s\n",
      "[CV] END C=5, coef0=0.01, degree=3, gamma=scale, kernel=sigmoid; total time=   0.1s\n"
     ]
    },
    {
     "name": "stdout",
     "output_type": "stream",
     "text": [
      "[CV] END C=5, coef0=0.01, degree=3, gamma=scale, kernel=sigmoid; total time=   0.1s\n",
      "[CV] END C=5, coef0=0.01, degree=3, gamma=scale, kernel=sigmoid; total time=   0.1s\n"
     ]
    },
    {
     "name": "stdout",
     "output_type": "stream",
     "text": [
      "[CV] END C=5, coef0=0.01, degree=8, gamma=auto, kernel=linear; total time=   0.1s\n",
      "[CV] END C=5, coef0=0.01, degree=8, gamma=auto, kernel=linear; total time=   0.1s\n",
      "[CV] END C=5, coef0=0.01, degree=8, gamma=auto, kernel=linear; total time=   0.1s\n"
     ]
    },
    {
     "name": "stdout",
     "output_type": "stream",
     "text": [
      "[CV] END C=5, coef0=0.01, degree=8, gamma=auto, kernel=linear; total time=   0.1s\n",
      "[CV] END C=5, coef0=0.01, degree=8, gamma=auto, kernel=linear; total time=   0.1s\n",
      "[CV] END ..C=5, coef0=0.01, degree=8, gamma=auto, kernel=rbf; total time=   0.1s\n"
     ]
    },
    {
     "name": "stdout",
     "output_type": "stream",
     "text": [
      "[CV] END ..C=5, coef0=0.01, degree=8, gamma=auto, kernel=rbf; total time=   0.1s\n",
      "[CV] END ..C=5, coef0=0.01, degree=8, gamma=auto, kernel=rbf; total time=   0.1s\n"
     ]
    },
    {
     "name": "stdout",
     "output_type": "stream",
     "text": [
      "[CV] END ..C=5, coef0=0.01, degree=8, gamma=auto, kernel=rbf; total time=   0.1s\n",
      "[CV] END ..C=5, coef0=0.01, degree=8, gamma=auto, kernel=rbf; total time=   0.1s\n",
      "[CV] END C=5, coef0=0.01, degree=8, gamma=auto, kernel=sigmoid; total time=   0.1s\n"
     ]
    },
    {
     "name": "stdout",
     "output_type": "stream",
     "text": [
      "[CV] END C=5, coef0=0.01, degree=8, gamma=auto, kernel=sigmoid; total time=   0.1s\n",
      "[CV] END C=5, coef0=0.01, degree=8, gamma=auto, kernel=sigmoid; total time=   0.1s\n",
      "[CV] END C=5, coef0=0.01, degree=8, gamma=auto, kernel=sigmoid; total time=   0.1s\n",
      "[CV] END C=5, coef0=0.01, degree=8, gamma=auto, kernel=sigmoid; total time=   0.1s\n"
     ]
    },
    {
     "name": "stdout",
     "output_type": "stream",
     "text": [
      "[CV] END C=5, coef0=0.01, degree=8, gamma=scale, kernel=linear; total time=   0.1s\n",
      "[CV] END C=5, coef0=0.01, degree=8, gamma=scale, kernel=linear; total time=   0.1s\n",
      "[CV] END C=5, coef0=0.01, degree=8, gamma=scale, kernel=linear; total time=   0.1s\n"
     ]
    },
    {
     "name": "stdout",
     "output_type": "stream",
     "text": [
      "[CV] END C=5, coef0=0.01, degree=8, gamma=scale, kernel=linear; total time=   0.1s\n",
      "[CV] END C=5, coef0=0.01, degree=8, gamma=scale, kernel=linear; total time=   0.1s\n",
      "[CV] END .C=5, coef0=0.01, degree=8, gamma=scale, kernel=rbf; total time=   0.1s\n"
     ]
    },
    {
     "name": "stdout",
     "output_type": "stream",
     "text": [
      "[CV] END .C=5, coef0=0.01, degree=8, gamma=scale, kernel=rbf; total time=   0.1s\n",
      "[CV] END .C=5, coef0=0.01, degree=8, gamma=scale, kernel=rbf; total time=   0.1s\n",
      "[CV] END .C=5, coef0=0.01, degree=8, gamma=scale, kernel=rbf; total time=   0.1s\n"
     ]
    },
    {
     "name": "stdout",
     "output_type": "stream",
     "text": [
      "[CV] END .C=5, coef0=0.01, degree=8, gamma=scale, kernel=rbf; total time=   0.1s\n",
      "[CV] END C=5, coef0=0.01, degree=8, gamma=scale, kernel=sigmoid; total time=   0.1s\n"
     ]
    },
    {
     "name": "stdout",
     "output_type": "stream",
     "text": [
      "[CV] END C=5, coef0=0.01, degree=8, gamma=scale, kernel=sigmoid; total time=   0.1s\n",
      "[CV] END C=5, coef0=0.01, degree=8, gamma=scale, kernel=sigmoid; total time=   0.1s\n"
     ]
    },
    {
     "name": "stdout",
     "output_type": "stream",
     "text": [
      "[CV] END C=5, coef0=0.01, degree=8, gamma=scale, kernel=sigmoid; total time=   0.1s\n",
      "[CV] END C=5, coef0=0.01, degree=8, gamma=scale, kernel=sigmoid; total time=   0.1s\n"
     ]
    },
    {
     "name": "stdout",
     "output_type": "stream",
     "text": [
      "[CV] END .C=5, coef0=10, degree=3, gamma=auto, kernel=linear; total time=   0.1s\n",
      "[CV] END .C=5, coef0=10, degree=3, gamma=auto, kernel=linear; total time=   0.1s\n",
      "[CV] END .C=5, coef0=10, degree=3, gamma=auto, kernel=linear; total time=   0.1s\n"
     ]
    },
    {
     "name": "stdout",
     "output_type": "stream",
     "text": [
      "[CV] END .C=5, coef0=10, degree=3, gamma=auto, kernel=linear; total time=   0.1s\n",
      "[CV] END .C=5, coef0=10, degree=3, gamma=auto, kernel=linear; total time=   0.1s\n",
      "[CV] END ....C=5, coef0=10, degree=3, gamma=auto, kernel=rbf; total time=   0.1s\n"
     ]
    },
    {
     "name": "stdout",
     "output_type": "stream",
     "text": [
      "[CV] END ....C=5, coef0=10, degree=3, gamma=auto, kernel=rbf; total time=   0.1s\n",
      "[CV] END ....C=5, coef0=10, degree=3, gamma=auto, kernel=rbf; total time=   0.1s\n"
     ]
    },
    {
     "name": "stdout",
     "output_type": "stream",
     "text": [
      "[CV] END ....C=5, coef0=10, degree=3, gamma=auto, kernel=rbf; total time=   0.1s\n",
      "[CV] END ....C=5, coef0=10, degree=3, gamma=auto, kernel=rbf; total time=   0.1s\n",
      "[CV] END C=5, coef0=10, degree=3, gamma=auto, kernel=sigmoid; total time=   0.1s\n"
     ]
    },
    {
     "name": "stdout",
     "output_type": "stream",
     "text": [
      "[CV] END C=5, coef0=10, degree=3, gamma=auto, kernel=sigmoid; total time=   0.1s\n",
      "[CV] END C=5, coef0=10, degree=3, gamma=auto, kernel=sigmoid; total time=   0.1s\n",
      "[CV] END C=5, coef0=10, degree=3, gamma=auto, kernel=sigmoid; total time=   0.1s\n"
     ]
    },
    {
     "name": "stdout",
     "output_type": "stream",
     "text": [
      "[CV] END C=5, coef0=10, degree=3, gamma=auto, kernel=sigmoid; total time=   0.1s\n",
      "[CV] END C=5, coef0=10, degree=3, gamma=scale, kernel=linear; total time=   0.1s\n",
      "[CV] END C=5, coef0=10, degree=3, gamma=scale, kernel=linear; total time=   0.1s\n"
     ]
    },
    {
     "name": "stdout",
     "output_type": "stream",
     "text": [
      "[CV] END C=5, coef0=10, degree=3, gamma=scale, kernel=linear; total time=   0.1s\n",
      "[CV] END C=5, coef0=10, degree=3, gamma=scale, kernel=linear; total time=   0.1s\n",
      "[CV] END C=5, coef0=10, degree=3, gamma=scale, kernel=linear; total time=   0.1s\n"
     ]
    },
    {
     "name": "stdout",
     "output_type": "stream",
     "text": [
      "[CV] END ...C=5, coef0=10, degree=3, gamma=scale, kernel=rbf; total time=   0.1s\n",
      "[CV] END ...C=5, coef0=10, degree=3, gamma=scale, kernel=rbf; total time=   0.1s\n",
      "[CV] END ...C=5, coef0=10, degree=3, gamma=scale, kernel=rbf; total time=   0.1s\n"
     ]
    },
    {
     "name": "stdout",
     "output_type": "stream",
     "text": [
      "[CV] END ...C=5, coef0=10, degree=3, gamma=scale, kernel=rbf; total time=   0.1s\n",
      "[CV] END ...C=5, coef0=10, degree=3, gamma=scale, kernel=rbf; total time=   0.1s\n"
     ]
    },
    {
     "name": "stdout",
     "output_type": "stream",
     "text": [
      "[CV] END C=5, coef0=10, degree=3, gamma=scale, kernel=sigmoid; total time=   0.1s\n",
      "[CV] END C=5, coef0=10, degree=3, gamma=scale, kernel=sigmoid; total time=   0.1s\n"
     ]
    },
    {
     "name": "stdout",
     "output_type": "stream",
     "text": [
      "[CV] END C=5, coef0=10, degree=3, gamma=scale, kernel=sigmoid; total time=   0.1s\n",
      "[CV] END C=5, coef0=10, degree=3, gamma=scale, kernel=sigmoid; total time=   0.1s\n"
     ]
    },
    {
     "name": "stdout",
     "output_type": "stream",
     "text": [
      "[CV] END C=5, coef0=10, degree=3, gamma=scale, kernel=sigmoid; total time=   0.1s\n",
      "[CV] END .C=5, coef0=10, degree=8, gamma=auto, kernel=linear; total time=   0.1s\n",
      "[CV] END .C=5, coef0=10, degree=8, gamma=auto, kernel=linear; total time=   0.1s\n"
     ]
    },
    {
     "name": "stdout",
     "output_type": "stream",
     "text": [
      "[CV] END .C=5, coef0=10, degree=8, gamma=auto, kernel=linear; total time=   0.1s\n"
     ]
    },
    {
     "name": "stdout",
     "output_type": "stream",
     "text": [
      "[CV] END .C=5, coef0=10, degree=8, gamma=auto, kernel=linear; total time=   0.2s\n",
      "[CV] END .C=5, coef0=10, degree=8, gamma=auto, kernel=linear; total time=   0.1s\n",
      "[CV] END ....C=5, coef0=10, degree=8, gamma=auto, kernel=rbf; total time=   0.1s\n"
     ]
    },
    {
     "name": "stdout",
     "output_type": "stream",
     "text": [
      "[CV] END ....C=5, coef0=10, degree=8, gamma=auto, kernel=rbf; total time=   0.1s\n",
      "[CV] END ....C=5, coef0=10, degree=8, gamma=auto, kernel=rbf; total time=   0.1s\n"
     ]
    },
    {
     "name": "stdout",
     "output_type": "stream",
     "text": [
      "[CV] END ....C=5, coef0=10, degree=8, gamma=auto, kernel=rbf; total time=   0.1s\n",
      "[CV] END ....C=5, coef0=10, degree=8, gamma=auto, kernel=rbf; total time=   0.1s\n",
      "[CV] END C=5, coef0=10, degree=8, gamma=auto, kernel=sigmoid; total time=   0.1s\n"
     ]
    },
    {
     "name": "stdout",
     "output_type": "stream",
     "text": [
      "[CV] END C=5, coef0=10, degree=8, gamma=auto, kernel=sigmoid; total time=   0.1s\n",
      "[CV] END C=5, coef0=10, degree=8, gamma=auto, kernel=sigmoid; total time=   0.1s\n",
      "[CV] END C=5, coef0=10, degree=8, gamma=auto, kernel=sigmoid; total time=   0.1s\n",
      "[CV] END C=5, coef0=10, degree=8, gamma=auto, kernel=sigmoid; total time=   0.1s\n"
     ]
    },
    {
     "name": "stdout",
     "output_type": "stream",
     "text": [
      "[CV] END C=5, coef0=10, degree=8, gamma=scale, kernel=linear; total time=   0.1s\n",
      "[CV] END C=5, coef0=10, degree=8, gamma=scale, kernel=linear; total time=   0.1s\n",
      "[CV] END C=5, coef0=10, degree=8, gamma=scale, kernel=linear; total time=   0.1s\n"
     ]
    },
    {
     "name": "stdout",
     "output_type": "stream",
     "text": [
      "[CV] END C=5, coef0=10, degree=8, gamma=scale, kernel=linear; total time=   0.1s\n",
      "[CV] END C=5, coef0=10, degree=8, gamma=scale, kernel=linear; total time=   0.1s\n",
      "[CV] END ...C=5, coef0=10, degree=8, gamma=scale, kernel=rbf; total time=   0.1s\n"
     ]
    },
    {
     "name": "stdout",
     "output_type": "stream",
     "text": [
      "[CV] END ...C=5, coef0=10, degree=8, gamma=scale, kernel=rbf; total time=   0.1s\n",
      "[CV] END ...C=5, coef0=10, degree=8, gamma=scale, kernel=rbf; total time=   0.1s\n",
      "[CV] END ...C=5, coef0=10, degree=8, gamma=scale, kernel=rbf; total time=   0.1s\n"
     ]
    },
    {
     "name": "stdout",
     "output_type": "stream",
     "text": [
      "[CV] END ...C=5, coef0=10, degree=8, gamma=scale, kernel=rbf; total time=   0.1s\n",
      "[CV] END C=5, coef0=10, degree=8, gamma=scale, kernel=sigmoid; total time=   0.1s\n"
     ]
    },
    {
     "name": "stdout",
     "output_type": "stream",
     "text": [
      "[CV] END C=5, coef0=10, degree=8, gamma=scale, kernel=sigmoid; total time=   0.1s\n",
      "[CV] END C=5, coef0=10, degree=8, gamma=scale, kernel=sigmoid; total time=   0.1s\n"
     ]
    },
    {
     "name": "stdout",
     "output_type": "stream",
     "text": [
      "[CV] END C=5, coef0=10, degree=8, gamma=scale, kernel=sigmoid; total time=   0.1s\n",
      "[CV] END C=5, coef0=10, degree=8, gamma=scale, kernel=sigmoid; total time=   0.1s\n"
     ]
    },
    {
     "name": "stdout",
     "output_type": "stream",
     "text": [
      "[CV] END C=5, coef0=0.5, degree=3, gamma=auto, kernel=linear; total time=   0.1s\n",
      "[CV] END C=5, coef0=0.5, degree=3, gamma=auto, kernel=linear; total time=   0.1s\n",
      "[CV] END C=5, coef0=0.5, degree=3, gamma=auto, kernel=linear; total time=   0.1s\n"
     ]
    },
    {
     "name": "stdout",
     "output_type": "stream",
     "text": [
      "[CV] END C=5, coef0=0.5, degree=3, gamma=auto, kernel=linear; total time=   0.1s\n",
      "[CV] END C=5, coef0=0.5, degree=3, gamma=auto, kernel=linear; total time=   0.1s\n",
      "[CV] END ...C=5, coef0=0.5, degree=3, gamma=auto, kernel=rbf; total time=   0.1s\n"
     ]
    },
    {
     "name": "stdout",
     "output_type": "stream",
     "text": [
      "[CV] END ...C=5, coef0=0.5, degree=3, gamma=auto, kernel=rbf; total time=   0.1s\n",
      "[CV] END ...C=5, coef0=0.5, degree=3, gamma=auto, kernel=rbf; total time=   0.1s\n"
     ]
    },
    {
     "name": "stdout",
     "output_type": "stream",
     "text": [
      "[CV] END ...C=5, coef0=0.5, degree=3, gamma=auto, kernel=rbf; total time=   0.1s\n",
      "[CV] END ...C=5, coef0=0.5, degree=3, gamma=auto, kernel=rbf; total time=   0.1s\n",
      "[CV] END C=5, coef0=0.5, degree=3, gamma=auto, kernel=sigmoid; total time=   0.1s\n"
     ]
    },
    {
     "name": "stdout",
     "output_type": "stream",
     "text": [
      "[CV] END C=5, coef0=0.5, degree=3, gamma=auto, kernel=sigmoid; total time=   0.1s\n",
      "[CV] END C=5, coef0=0.5, degree=3, gamma=auto, kernel=sigmoid; total time=   0.1s\n",
      "[CV] END C=5, coef0=0.5, degree=3, gamma=auto, kernel=sigmoid; total time=   0.1s\n",
      "[CV] END C=5, coef0=0.5, degree=3, gamma=auto, kernel=sigmoid; total time=   0.1s\n"
     ]
    },
    {
     "name": "stdout",
     "output_type": "stream",
     "text": [
      "[CV] END C=5, coef0=0.5, degree=3, gamma=scale, kernel=linear; total time=   0.1s\n",
      "[CV] END C=5, coef0=0.5, degree=3, gamma=scale, kernel=linear; total time=   0.1s\n",
      "[CV] END C=5, coef0=0.5, degree=3, gamma=scale, kernel=linear; total time=   0.1s\n"
     ]
    },
    {
     "name": "stdout",
     "output_type": "stream",
     "text": [
      "[CV] END C=5, coef0=0.5, degree=3, gamma=scale, kernel=linear; total time=   0.1s\n",
      "[CV] END C=5, coef0=0.5, degree=3, gamma=scale, kernel=linear; total time=   0.1s\n",
      "[CV] END ..C=5, coef0=0.5, degree=3, gamma=scale, kernel=rbf; total time=   0.1s\n"
     ]
    },
    {
     "name": "stdout",
     "output_type": "stream",
     "text": [
      "[CV] END ..C=5, coef0=0.5, degree=3, gamma=scale, kernel=rbf; total time=   0.1s\n",
      "[CV] END ..C=5, coef0=0.5, degree=3, gamma=scale, kernel=rbf; total time=   0.1s\n",
      "[CV] END ..C=5, coef0=0.5, degree=3, gamma=scale, kernel=rbf; total time=   0.1s\n"
     ]
    },
    {
     "name": "stdout",
     "output_type": "stream",
     "text": [
      "[CV] END ..C=5, coef0=0.5, degree=3, gamma=scale, kernel=rbf; total time=   0.1s\n",
      "[CV] END C=5, coef0=0.5, degree=3, gamma=scale, kernel=sigmoid; total time=   0.1s\n"
     ]
    },
    {
     "name": "stdout",
     "output_type": "stream",
     "text": [
      "[CV] END C=5, coef0=0.5, degree=3, gamma=scale, kernel=sigmoid; total time=   0.1s\n",
      "[CV] END C=5, coef0=0.5, degree=3, gamma=scale, kernel=sigmoid; total time=   0.1s\n"
     ]
    },
    {
     "name": "stdout",
     "output_type": "stream",
     "text": [
      "[CV] END C=5, coef0=0.5, degree=3, gamma=scale, kernel=sigmoid; total time=   0.1s\n",
      "[CV] END C=5, coef0=0.5, degree=3, gamma=scale, kernel=sigmoid; total time=   0.1s\n"
     ]
    },
    {
     "name": "stdout",
     "output_type": "stream",
     "text": [
      "[CV] END C=5, coef0=0.5, degree=8, gamma=auto, kernel=linear; total time=   0.1s\n",
      "[CV] END C=5, coef0=0.5, degree=8, gamma=auto, kernel=linear; total time=   0.1s\n",
      "[CV] END C=5, coef0=0.5, degree=8, gamma=auto, kernel=linear; total time=   0.1s\n"
     ]
    },
    {
     "name": "stdout",
     "output_type": "stream",
     "text": [
      "[CV] END C=5, coef0=0.5, degree=8, gamma=auto, kernel=linear; total time=   0.1s\n",
      "[CV] END C=5, coef0=0.5, degree=8, gamma=auto, kernel=linear; total time=   0.1s\n",
      "[CV] END ...C=5, coef0=0.5, degree=8, gamma=auto, kernel=rbf; total time=   0.1s\n"
     ]
    },
    {
     "name": "stdout",
     "output_type": "stream",
     "text": [
      "[CV] END ...C=5, coef0=0.5, degree=8, gamma=auto, kernel=rbf; total time=   0.1s\n",
      "[CV] END ...C=5, coef0=0.5, degree=8, gamma=auto, kernel=rbf; total time=   0.1s\n"
     ]
    },
    {
     "name": "stdout",
     "output_type": "stream",
     "text": [
      "[CV] END ...C=5, coef0=0.5, degree=8, gamma=auto, kernel=rbf; total time=   0.1s\n",
      "[CV] END ...C=5, coef0=0.5, degree=8, gamma=auto, kernel=rbf; total time=   0.1s\n",
      "[CV] END C=5, coef0=0.5, degree=8, gamma=auto, kernel=sigmoid; total time=   0.1s\n"
     ]
    },
    {
     "name": "stdout",
     "output_type": "stream",
     "text": [
      "[CV] END C=5, coef0=0.5, degree=8, gamma=auto, kernel=sigmoid; total time=   0.1s\n",
      "[CV] END C=5, coef0=0.5, degree=8, gamma=auto, kernel=sigmoid; total time=   0.1s\n",
      "[CV] END C=5, coef0=0.5, degree=8, gamma=auto, kernel=sigmoid; total time=   0.1s\n",
      "[CV] END C=5, coef0=0.5, degree=8, gamma=auto, kernel=sigmoid; total time=   0.1s\n"
     ]
    },
    {
     "name": "stdout",
     "output_type": "stream",
     "text": [
      "[CV] END C=5, coef0=0.5, degree=8, gamma=scale, kernel=linear; total time=   0.2s\n",
      "[CV] END C=5, coef0=0.5, degree=8, gamma=scale, kernel=linear; total time=   0.1s\n",
      "[CV] END C=5, coef0=0.5, degree=8, gamma=scale, kernel=linear; total time=   0.1s\n"
     ]
    },
    {
     "name": "stdout",
     "output_type": "stream",
     "text": [
      "[CV] END C=5, coef0=0.5, degree=8, gamma=scale, kernel=linear; total time=   0.1s\n",
      "[CV] END C=5, coef0=0.5, degree=8, gamma=scale, kernel=linear; total time=   0.1s\n",
      "[CV] END ..C=5, coef0=0.5, degree=8, gamma=scale, kernel=rbf; total time=   0.1s\n"
     ]
    },
    {
     "name": "stdout",
     "output_type": "stream",
     "text": [
      "[CV] END ..C=5, coef0=0.5, degree=8, gamma=scale, kernel=rbf; total time=   0.1s\n",
      "[CV] END ..C=5, coef0=0.5, degree=8, gamma=scale, kernel=rbf; total time=   0.1s\n",
      "[CV] END ..C=5, coef0=0.5, degree=8, gamma=scale, kernel=rbf; total time=   0.1s\n"
     ]
    },
    {
     "name": "stdout",
     "output_type": "stream",
     "text": [
      "[CV] END ..C=5, coef0=0.5, degree=8, gamma=scale, kernel=rbf; total time=   0.1s\n",
      "[CV] END C=5, coef0=0.5, degree=8, gamma=scale, kernel=sigmoid; total time=   0.1s\n"
     ]
    },
    {
     "name": "stdout",
     "output_type": "stream",
     "text": [
      "[CV] END C=5, coef0=0.5, degree=8, gamma=scale, kernel=sigmoid; total time=   0.1s\n",
      "[CV] END C=5, coef0=0.5, degree=8, gamma=scale, kernel=sigmoid; total time=   0.1s\n"
     ]
    },
    {
     "name": "stdout",
     "output_type": "stream",
     "text": [
      "[CV] END C=5, coef0=0.5, degree=8, gamma=scale, kernel=sigmoid; total time=   0.1s\n",
      "[CV] END C=5, coef0=0.5, degree=8, gamma=scale, kernel=sigmoid; total time=   0.1s\n"
     ]
    },
    {
     "name": "stdout",
     "output_type": "stream",
     "text": [
      "[CV] END C=10, coef0=0.01, degree=3, gamma=auto, kernel=linear; total time=   0.1s\n",
      "[CV] END C=10, coef0=0.01, degree=3, gamma=auto, kernel=linear; total time=   0.1s\n",
      "[CV] END C=10, coef0=0.01, degree=3, gamma=auto, kernel=linear; total time=   0.1s\n"
     ]
    },
    {
     "name": "stdout",
     "output_type": "stream",
     "text": [
      "[CV] END C=10, coef0=0.01, degree=3, gamma=auto, kernel=linear; total time=   0.1s\n",
      "[CV] END C=10, coef0=0.01, degree=3, gamma=auto, kernel=linear; total time=   0.1s\n",
      "[CV] END .C=10, coef0=0.01, degree=3, gamma=auto, kernel=rbf; total time=   0.1s\n"
     ]
    },
    {
     "name": "stdout",
     "output_type": "stream",
     "text": [
      "[CV] END .C=10, coef0=0.01, degree=3, gamma=auto, kernel=rbf; total time=   0.1s\n",
      "[CV] END .C=10, coef0=0.01, degree=3, gamma=auto, kernel=rbf; total time=   0.1s\n"
     ]
    },
    {
     "name": "stdout",
     "output_type": "stream",
     "text": [
      "[CV] END .C=10, coef0=0.01, degree=3, gamma=auto, kernel=rbf; total time=   0.1s\n",
      "[CV] END .C=10, coef0=0.01, degree=3, gamma=auto, kernel=rbf; total time=   0.1s\n",
      "[CV] END C=10, coef0=0.01, degree=3, gamma=auto, kernel=sigmoid; total time=   0.1s\n"
     ]
    },
    {
     "name": "stdout",
     "output_type": "stream",
     "text": [
      "[CV] END C=10, coef0=0.01, degree=3, gamma=auto, kernel=sigmoid; total time=   0.1s\n",
      "[CV] END C=10, coef0=0.01, degree=3, gamma=auto, kernel=sigmoid; total time=   0.1s\n",
      "[CV] END C=10, coef0=0.01, degree=3, gamma=auto, kernel=sigmoid; total time=   0.1s\n",
      "[CV] END C=10, coef0=0.01, degree=3, gamma=auto, kernel=sigmoid; total time=   0.1s\n"
     ]
    },
    {
     "name": "stdout",
     "output_type": "stream",
     "text": [
      "[CV] END C=10, coef0=0.01, degree=3, gamma=scale, kernel=linear; total time=   0.1s\n",
      "[CV] END C=10, coef0=0.01, degree=3, gamma=scale, kernel=linear; total time=   0.1s\n",
      "[CV] END C=10, coef0=0.01, degree=3, gamma=scale, kernel=linear; total time=   0.1s\n"
     ]
    },
    {
     "name": "stdout",
     "output_type": "stream",
     "text": [
      "[CV] END C=10, coef0=0.01, degree=3, gamma=scale, kernel=linear; total time=   0.1s\n",
      "[CV] END C=10, coef0=0.01, degree=3, gamma=scale, kernel=linear; total time=   0.1s\n",
      "[CV] END C=10, coef0=0.01, degree=3, gamma=scale, kernel=rbf; total time=   0.1s\n"
     ]
    },
    {
     "name": "stdout",
     "output_type": "stream",
     "text": [
      "[CV] END C=10, coef0=0.01, degree=3, gamma=scale, kernel=rbf; total time=   0.1s\n",
      "[CV] END C=10, coef0=0.01, degree=3, gamma=scale, kernel=rbf; total time=   0.1s\n",
      "[CV] END C=10, coef0=0.01, degree=3, gamma=scale, kernel=rbf; total time=   0.1s\n"
     ]
    },
    {
     "name": "stdout",
     "output_type": "stream",
     "text": [
      "[CV] END C=10, coef0=0.01, degree=3, gamma=scale, kernel=rbf; total time=   0.1s\n",
      "[CV] END C=10, coef0=0.01, degree=3, gamma=scale, kernel=sigmoid; total time=   0.1s\n"
     ]
    },
    {
     "name": "stdout",
     "output_type": "stream",
     "text": [
      "[CV] END C=10, coef0=0.01, degree=3, gamma=scale, kernel=sigmoid; total time=   0.2s\n",
      "[CV] END C=10, coef0=0.01, degree=3, gamma=scale, kernel=sigmoid; total time=   0.1s\n"
     ]
    },
    {
     "name": "stdout",
     "output_type": "stream",
     "text": [
      "[CV] END C=10, coef0=0.01, degree=3, gamma=scale, kernel=sigmoid; total time=   0.2s\n",
      "[CV] END C=10, coef0=0.01, degree=3, gamma=scale, kernel=sigmoid; total time=   0.1s\n"
     ]
    },
    {
     "name": "stdout",
     "output_type": "stream",
     "text": [
      "[CV] END C=10, coef0=0.01, degree=8, gamma=auto, kernel=linear; total time=   0.1s\n",
      "[CV] END C=10, coef0=0.01, degree=8, gamma=auto, kernel=linear; total time=   0.1s\n",
      "[CV] END C=10, coef0=0.01, degree=8, gamma=auto, kernel=linear; total time=   0.1s\n"
     ]
    },
    {
     "name": "stdout",
     "output_type": "stream",
     "text": [
      "[CV] END C=10, coef0=0.01, degree=8, gamma=auto, kernel=linear; total time=   0.1s\n",
      "[CV] END C=10, coef0=0.01, degree=8, gamma=auto, kernel=linear; total time=   0.1s\n",
      "[CV] END .C=10, coef0=0.01, degree=8, gamma=auto, kernel=rbf; total time=   0.1s\n"
     ]
    },
    {
     "name": "stdout",
     "output_type": "stream",
     "text": [
      "[CV] END .C=10, coef0=0.01, degree=8, gamma=auto, kernel=rbf; total time=   0.1s\n",
      "[CV] END .C=10, coef0=0.01, degree=8, gamma=auto, kernel=rbf; total time=   0.1s\n"
     ]
    },
    {
     "name": "stdout",
     "output_type": "stream",
     "text": [
      "[CV] END .C=10, coef0=0.01, degree=8, gamma=auto, kernel=rbf; total time=   0.1s\n",
      "[CV] END .C=10, coef0=0.01, degree=8, gamma=auto, kernel=rbf; total time=   0.1s\n",
      "[CV] END C=10, coef0=0.01, degree=8, gamma=auto, kernel=sigmoid; total time=   0.1s\n"
     ]
    },
    {
     "name": "stdout",
     "output_type": "stream",
     "text": [
      "[CV] END C=10, coef0=0.01, degree=8, gamma=auto, kernel=sigmoid; total time=   0.1s\n",
      "[CV] END C=10, coef0=0.01, degree=8, gamma=auto, kernel=sigmoid; total time=   0.1s\n",
      "[CV] END C=10, coef0=0.01, degree=8, gamma=auto, kernel=sigmoid; total time=   0.1s\n",
      "[CV] END C=10, coef0=0.01, degree=8, gamma=auto, kernel=sigmoid; total time=   0.1s\n"
     ]
    },
    {
     "name": "stdout",
     "output_type": "stream",
     "text": [
      "[CV] END C=10, coef0=0.01, degree=8, gamma=scale, kernel=linear; total time=   0.1s\n",
      "[CV] END C=10, coef0=0.01, degree=8, gamma=scale, kernel=linear; total time=   0.1s\n",
      "[CV] END C=10, coef0=0.01, degree=8, gamma=scale, kernel=linear; total time=   0.1s\n"
     ]
    },
    {
     "name": "stdout",
     "output_type": "stream",
     "text": [
      "[CV] END C=10, coef0=0.01, degree=8, gamma=scale, kernel=linear; total time=   0.1s\n",
      "[CV] END C=10, coef0=0.01, degree=8, gamma=scale, kernel=linear; total time=   0.1s\n",
      "[CV] END C=10, coef0=0.01, degree=8, gamma=scale, kernel=rbf; total time=   0.1s\n"
     ]
    },
    {
     "name": "stdout",
     "output_type": "stream",
     "text": [
      "[CV] END C=10, coef0=0.01, degree=8, gamma=scale, kernel=rbf; total time=   0.1s\n",
      "[CV] END C=10, coef0=0.01, degree=8, gamma=scale, kernel=rbf; total time=   0.1s\n",
      "[CV] END C=10, coef0=0.01, degree=8, gamma=scale, kernel=rbf; total time=   0.1s\n"
     ]
    },
    {
     "name": "stdout",
     "output_type": "stream",
     "text": [
      "[CV] END C=10, coef0=0.01, degree=8, gamma=scale, kernel=rbf; total time=   0.1s\n",
      "[CV] END C=10, coef0=0.01, degree=8, gamma=scale, kernel=sigmoid; total time=   0.1s\n"
     ]
    },
    {
     "name": "stdout",
     "output_type": "stream",
     "text": [
      "[CV] END C=10, coef0=0.01, degree=8, gamma=scale, kernel=sigmoid; total time=   0.1s\n",
      "[CV] END C=10, coef0=0.01, degree=8, gamma=scale, kernel=sigmoid; total time=   0.1s\n"
     ]
    },
    {
     "name": "stdout",
     "output_type": "stream",
     "text": [
      "[CV] END C=10, coef0=0.01, degree=8, gamma=scale, kernel=sigmoid; total time=   0.2s\n",
      "[CV] END C=10, coef0=0.01, degree=8, gamma=scale, kernel=sigmoid; total time=   0.1s\n"
     ]
    },
    {
     "name": "stdout",
     "output_type": "stream",
     "text": [
      "[CV] END C=10, coef0=10, degree=3, gamma=auto, kernel=linear; total time=   0.1s\n",
      "[CV] END C=10, coef0=10, degree=3, gamma=auto, kernel=linear; total time=   0.1s\n",
      "[CV] END C=10, coef0=10, degree=3, gamma=auto, kernel=linear; total time=   0.1s\n"
     ]
    },
    {
     "name": "stdout",
     "output_type": "stream",
     "text": [
      "[CV] END C=10, coef0=10, degree=3, gamma=auto, kernel=linear; total time=   0.1s\n",
      "[CV] END C=10, coef0=10, degree=3, gamma=auto, kernel=linear; total time=   0.1s\n",
      "[CV] END ...C=10, coef0=10, degree=3, gamma=auto, kernel=rbf; total time=   0.1s\n"
     ]
    },
    {
     "name": "stdout",
     "output_type": "stream",
     "text": [
      "[CV] END ...C=10, coef0=10, degree=3, gamma=auto, kernel=rbf; total time=   0.1s\n",
      "[CV] END ...C=10, coef0=10, degree=3, gamma=auto, kernel=rbf; total time=   0.1s\n"
     ]
    },
    {
     "name": "stdout",
     "output_type": "stream",
     "text": [
      "[CV] END ...C=10, coef0=10, degree=3, gamma=auto, kernel=rbf; total time=   0.1s\n",
      "[CV] END ...C=10, coef0=10, degree=3, gamma=auto, kernel=rbf; total time=   0.1s\n",
      "[CV] END C=10, coef0=10, degree=3, gamma=auto, kernel=sigmoid; total time=   0.1s\n"
     ]
    },
    {
     "name": "stdout",
     "output_type": "stream",
     "text": [
      "[CV] END C=10, coef0=10, degree=3, gamma=auto, kernel=sigmoid; total time=   0.1s\n",
      "[CV] END C=10, coef0=10, degree=3, gamma=auto, kernel=sigmoid; total time=   0.1s\n",
      "[CV] END C=10, coef0=10, degree=3, gamma=auto, kernel=sigmoid; total time=   0.1s\n",
      "[CV] END C=10, coef0=10, degree=3, gamma=auto, kernel=sigmoid; total time=   0.1s\n"
     ]
    },
    {
     "name": "stdout",
     "output_type": "stream",
     "text": [
      "[CV] END C=10, coef0=10, degree=3, gamma=scale, kernel=linear; total time=   0.1s\n",
      "[CV] END C=10, coef0=10, degree=3, gamma=scale, kernel=linear; total time=   0.1s\n",
      "[CV] END C=10, coef0=10, degree=3, gamma=scale, kernel=linear; total time=   0.1s\n"
     ]
    },
    {
     "name": "stdout",
     "output_type": "stream",
     "text": [
      "[CV] END C=10, coef0=10, degree=3, gamma=scale, kernel=linear; total time=   0.1s\n",
      "[CV] END C=10, coef0=10, degree=3, gamma=scale, kernel=linear; total time=   0.1s\n",
      "[CV] END ..C=10, coef0=10, degree=3, gamma=scale, kernel=rbf; total time=   0.1s\n"
     ]
    },
    {
     "name": "stdout",
     "output_type": "stream",
     "text": [
      "[CV] END ..C=10, coef0=10, degree=3, gamma=scale, kernel=rbf; total time=   0.1s\n",
      "[CV] END ..C=10, coef0=10, degree=3, gamma=scale, kernel=rbf; total time=   0.1s\n",
      "[CV] END ..C=10, coef0=10, degree=3, gamma=scale, kernel=rbf; total time=   0.1s\n"
     ]
    },
    {
     "name": "stdout",
     "output_type": "stream",
     "text": [
      "[CV] END ..C=10, coef0=10, degree=3, gamma=scale, kernel=rbf; total time=   0.1s\n",
      "[CV] END C=10, coef0=10, degree=3, gamma=scale, kernel=sigmoid; total time=   0.1s\n"
     ]
    },
    {
     "name": "stdout",
     "output_type": "stream",
     "text": [
      "[CV] END C=10, coef0=10, degree=3, gamma=scale, kernel=sigmoid; total time=   0.1s\n",
      "[CV] END C=10, coef0=10, degree=3, gamma=scale, kernel=sigmoid; total time=   0.1s\n"
     ]
    },
    {
     "name": "stdout",
     "output_type": "stream",
     "text": [
      "[CV] END C=10, coef0=10, degree=3, gamma=scale, kernel=sigmoid; total time=   0.1s\n",
      "[CV] END C=10, coef0=10, degree=3, gamma=scale, kernel=sigmoid; total time=   0.1s\n"
     ]
    },
    {
     "name": "stdout",
     "output_type": "stream",
     "text": [
      "[CV] END C=10, coef0=10, degree=8, gamma=auto, kernel=linear; total time=   0.1s\n",
      "[CV] END C=10, coef0=10, degree=8, gamma=auto, kernel=linear; total time=   0.1s\n",
      "[CV] END C=10, coef0=10, degree=8, gamma=auto, kernel=linear; total time=   0.1s\n"
     ]
    },
    {
     "name": "stdout",
     "output_type": "stream",
     "text": [
      "[CV] END C=10, coef0=10, degree=8, gamma=auto, kernel=linear; total time=   0.1s\n",
      "[CV] END C=10, coef0=10, degree=8, gamma=auto, kernel=linear; total time=   0.1s\n",
      "[CV] END ...C=10, coef0=10, degree=8, gamma=auto, kernel=rbf; total time=   0.1s\n"
     ]
    },
    {
     "name": "stdout",
     "output_type": "stream",
     "text": [
      "[CV] END ...C=10, coef0=10, degree=8, gamma=auto, kernel=rbf; total time=   0.1s\n",
      "[CV] END ...C=10, coef0=10, degree=8, gamma=auto, kernel=rbf; total time=   0.1s\n"
     ]
    },
    {
     "name": "stdout",
     "output_type": "stream",
     "text": [
      "[CV] END ...C=10, coef0=10, degree=8, gamma=auto, kernel=rbf; total time=   0.1s\n",
      "[CV] END ...C=10, coef0=10, degree=8, gamma=auto, kernel=rbf; total time=   0.1s\n",
      "[CV] END C=10, coef0=10, degree=8, gamma=auto, kernel=sigmoid; total time=   0.1s\n"
     ]
    },
    {
     "name": "stdout",
     "output_type": "stream",
     "text": [
      "[CV] END C=10, coef0=10, degree=8, gamma=auto, kernel=sigmoid; total time=   0.1s\n",
      "[CV] END C=10, coef0=10, degree=8, gamma=auto, kernel=sigmoid; total time=   0.1s\n",
      "[CV] END C=10, coef0=10, degree=8, gamma=auto, kernel=sigmoid; total time=   0.1s\n",
      "[CV] END C=10, coef0=10, degree=8, gamma=auto, kernel=sigmoid; total time=   0.1s\n"
     ]
    },
    {
     "name": "stdout",
     "output_type": "stream",
     "text": [
      "[CV] END C=10, coef0=10, degree=8, gamma=scale, kernel=linear; total time=   0.1s\n",
      "[CV] END C=10, coef0=10, degree=8, gamma=scale, kernel=linear; total time=   0.1s\n",
      "[CV] END C=10, coef0=10, degree=8, gamma=scale, kernel=linear; total time=   0.1s\n"
     ]
    },
    {
     "name": "stdout",
     "output_type": "stream",
     "text": [
      "[CV] END C=10, coef0=10, degree=8, gamma=scale, kernel=linear; total time=   0.1s\n",
      "[CV] END C=10, coef0=10, degree=8, gamma=scale, kernel=linear; total time=   0.1s\n",
      "[CV] END ..C=10, coef0=10, degree=8, gamma=scale, kernel=rbf; total time=   0.1s\n"
     ]
    },
    {
     "name": "stdout",
     "output_type": "stream",
     "text": [
      "[CV] END ..C=10, coef0=10, degree=8, gamma=scale, kernel=rbf; total time=   0.1s\n",
      "[CV] END ..C=10, coef0=10, degree=8, gamma=scale, kernel=rbf; total time=   0.1s\n",
      "[CV] END ..C=10, coef0=10, degree=8, gamma=scale, kernel=rbf; total time=   0.1s\n"
     ]
    },
    {
     "name": "stdout",
     "output_type": "stream",
     "text": [
      "[CV] END ..C=10, coef0=10, degree=8, gamma=scale, kernel=rbf; total time=   0.1s\n",
      "[CV] END C=10, coef0=10, degree=8, gamma=scale, kernel=sigmoid; total time=   0.1s\n"
     ]
    },
    {
     "name": "stdout",
     "output_type": "stream",
     "text": [
      "[CV] END C=10, coef0=10, degree=8, gamma=scale, kernel=sigmoid; total time=   0.1s\n",
      "[CV] END C=10, coef0=10, degree=8, gamma=scale, kernel=sigmoid; total time=   0.1s\n"
     ]
    },
    {
     "name": "stdout",
     "output_type": "stream",
     "text": [
      "[CV] END C=10, coef0=10, degree=8, gamma=scale, kernel=sigmoid; total time=   0.1s\n",
      "[CV] END C=10, coef0=10, degree=8, gamma=scale, kernel=sigmoid; total time=   0.1s\n"
     ]
    },
    {
     "name": "stdout",
     "output_type": "stream",
     "text": [
      "[CV] END C=10, coef0=0.5, degree=3, gamma=auto, kernel=linear; total time=   0.1s\n",
      "[CV] END C=10, coef0=0.5, degree=3, gamma=auto, kernel=linear; total time=   0.1s\n"
     ]
    },
    {
     "name": "stdout",
     "output_type": "stream",
     "text": [
      "[CV] END C=10, coef0=0.5, degree=3, gamma=auto, kernel=linear; total time=   0.1s\n",
      "[CV] END C=10, coef0=0.5, degree=3, gamma=auto, kernel=linear; total time=   0.2s\n"
     ]
    },
    {
     "name": "stdout",
     "output_type": "stream",
     "text": [
      "[CV] END C=10, coef0=0.5, degree=3, gamma=auto, kernel=linear; total time=   0.1s\n",
      "[CV] END ..C=10, coef0=0.5, degree=3, gamma=auto, kernel=rbf; total time=   0.1s\n"
     ]
    },
    {
     "name": "stdout",
     "output_type": "stream",
     "text": [
      "[CV] END ..C=10, coef0=0.5, degree=3, gamma=auto, kernel=rbf; total time=   0.1s\n",
      "[CV] END ..C=10, coef0=0.5, degree=3, gamma=auto, kernel=rbf; total time=   0.1s\n"
     ]
    },
    {
     "name": "stdout",
     "output_type": "stream",
     "text": [
      "[CV] END ..C=10, coef0=0.5, degree=3, gamma=auto, kernel=rbf; total time=   0.1s\n",
      "[CV] END ..C=10, coef0=0.5, degree=3, gamma=auto, kernel=rbf; total time=   0.1s\n",
      "[CV] END C=10, coef0=0.5, degree=3, gamma=auto, kernel=sigmoid; total time=   0.1s\n"
     ]
    },
    {
     "name": "stdout",
     "output_type": "stream",
     "text": [
      "[CV] END C=10, coef0=0.5, degree=3, gamma=auto, kernel=sigmoid; total time=   0.1s\n",
      "[CV] END C=10, coef0=0.5, degree=3, gamma=auto, kernel=sigmoid; total time=   0.1s\n",
      "[CV] END C=10, coef0=0.5, degree=3, gamma=auto, kernel=sigmoid; total time=   0.1s\n",
      "[CV] END C=10, coef0=0.5, degree=3, gamma=auto, kernel=sigmoid; total time=   0.1s\n"
     ]
    },
    {
     "name": "stdout",
     "output_type": "stream",
     "text": [
      "[CV] END C=10, coef0=0.5, degree=3, gamma=scale, kernel=linear; total time=   0.1s\n",
      "[CV] END C=10, coef0=0.5, degree=3, gamma=scale, kernel=linear; total time=   0.1s\n",
      "[CV] END C=10, coef0=0.5, degree=3, gamma=scale, kernel=linear; total time=   0.1s\n"
     ]
    },
    {
     "name": "stdout",
     "output_type": "stream",
     "text": [
      "[CV] END C=10, coef0=0.5, degree=3, gamma=scale, kernel=linear; total time=   0.1s\n",
      "[CV] END C=10, coef0=0.5, degree=3, gamma=scale, kernel=linear; total time=   0.1s\n",
      "[CV] END .C=10, coef0=0.5, degree=3, gamma=scale, kernel=rbf; total time=   0.1s\n"
     ]
    },
    {
     "name": "stdout",
     "output_type": "stream",
     "text": [
      "[CV] END .C=10, coef0=0.5, degree=3, gamma=scale, kernel=rbf; total time=   0.1s\n",
      "[CV] END .C=10, coef0=0.5, degree=3, gamma=scale, kernel=rbf; total time=   0.1s\n",
      "[CV] END .C=10, coef0=0.5, degree=3, gamma=scale, kernel=rbf; total time=   0.1s\n"
     ]
    },
    {
     "name": "stdout",
     "output_type": "stream",
     "text": [
      "[CV] END .C=10, coef0=0.5, degree=3, gamma=scale, kernel=rbf; total time=   0.1s\n",
      "[CV] END C=10, coef0=0.5, degree=3, gamma=scale, kernel=sigmoid; total time=   0.1s\n"
     ]
    },
    {
     "name": "stdout",
     "output_type": "stream",
     "text": [
      "[CV] END C=10, coef0=0.5, degree=3, gamma=scale, kernel=sigmoid; total time=   0.1s\n",
      "[CV] END C=10, coef0=0.5, degree=3, gamma=scale, kernel=sigmoid; total time=   0.1s\n"
     ]
    },
    {
     "name": "stdout",
     "output_type": "stream",
     "text": [
      "[CV] END C=10, coef0=0.5, degree=3, gamma=scale, kernel=sigmoid; total time=   0.1s\n",
      "[CV] END C=10, coef0=0.5, degree=3, gamma=scale, kernel=sigmoid; total time=   0.1s\n"
     ]
    },
    {
     "name": "stdout",
     "output_type": "stream",
     "text": [
      "[CV] END C=10, coef0=0.5, degree=8, gamma=auto, kernel=linear; total time=   0.1s\n",
      "[CV] END C=10, coef0=0.5, degree=8, gamma=auto, kernel=linear; total time=   0.1s\n",
      "[CV] END C=10, coef0=0.5, degree=8, gamma=auto, kernel=linear; total time=   0.1s\n"
     ]
    },
    {
     "name": "stdout",
     "output_type": "stream",
     "text": [
      "[CV] END C=10, coef0=0.5, degree=8, gamma=auto, kernel=linear; total time=   0.1s\n",
      "[CV] END C=10, coef0=0.5, degree=8, gamma=auto, kernel=linear; total time=   0.1s\n",
      "[CV] END ..C=10, coef0=0.5, degree=8, gamma=auto, kernel=rbf; total time=   0.1s\n"
     ]
    },
    {
     "name": "stdout",
     "output_type": "stream",
     "text": [
      "[CV] END ..C=10, coef0=0.5, degree=8, gamma=auto, kernel=rbf; total time=   0.1s\n",
      "[CV] END ..C=10, coef0=0.5, degree=8, gamma=auto, kernel=rbf; total time=   0.1s\n"
     ]
    },
    {
     "name": "stdout",
     "output_type": "stream",
     "text": [
      "[CV] END ..C=10, coef0=0.5, degree=8, gamma=auto, kernel=rbf; total time=   0.1s\n",
      "[CV] END ..C=10, coef0=0.5, degree=8, gamma=auto, kernel=rbf; total time=   0.1s\n",
      "[CV] END C=10, coef0=0.5, degree=8, gamma=auto, kernel=sigmoid; total time=   0.1s\n"
     ]
    },
    {
     "name": "stdout",
     "output_type": "stream",
     "text": [
      "[CV] END C=10, coef0=0.5, degree=8, gamma=auto, kernel=sigmoid; total time=   0.1s\n",
      "[CV] END C=10, coef0=0.5, degree=8, gamma=auto, kernel=sigmoid; total time=   0.1s\n",
      "[CV] END C=10, coef0=0.5, degree=8, gamma=auto, kernel=sigmoid; total time=   0.1s\n",
      "[CV] END C=10, coef0=0.5, degree=8, gamma=auto, kernel=sigmoid; total time=   0.1s\n"
     ]
    },
    {
     "name": "stdout",
     "output_type": "stream",
     "text": [
      "[CV] END C=10, coef0=0.5, degree=8, gamma=scale, kernel=linear; total time=   0.1s\n",
      "[CV] END C=10, coef0=0.5, degree=8, gamma=scale, kernel=linear; total time=   0.1s\n",
      "[CV] END C=10, coef0=0.5, degree=8, gamma=scale, kernel=linear; total time=   0.1s\n"
     ]
    },
    {
     "name": "stdout",
     "output_type": "stream",
     "text": [
      "[CV] END C=10, coef0=0.5, degree=8, gamma=scale, kernel=linear; total time=   0.1s\n",
      "[CV] END C=10, coef0=0.5, degree=8, gamma=scale, kernel=linear; total time=   0.1s\n",
      "[CV] END .C=10, coef0=0.5, degree=8, gamma=scale, kernel=rbf; total time=   0.1s\n"
     ]
    },
    {
     "name": "stdout",
     "output_type": "stream",
     "text": [
      "[CV] END .C=10, coef0=0.5, degree=8, gamma=scale, kernel=rbf; total time=   0.1s\n",
      "[CV] END .C=10, coef0=0.5, degree=8, gamma=scale, kernel=rbf; total time=   0.1s\n",
      "[CV] END .C=10, coef0=0.5, degree=8, gamma=scale, kernel=rbf; total time=   0.1s\n"
     ]
    },
    {
     "name": "stdout",
     "output_type": "stream",
     "text": [
      "[CV] END .C=10, coef0=0.5, degree=8, gamma=scale, kernel=rbf; total time=   0.1s\n",
      "[CV] END C=10, coef0=0.5, degree=8, gamma=scale, kernel=sigmoid; total time=   0.1s\n"
     ]
    },
    {
     "name": "stdout",
     "output_type": "stream",
     "text": [
      "[CV] END C=10, coef0=0.5, degree=8, gamma=scale, kernel=sigmoid; total time=   0.1s\n",
      "[CV] END C=10, coef0=0.5, degree=8, gamma=scale, kernel=sigmoid; total time=   0.1s\n"
     ]
    },
    {
     "name": "stdout",
     "output_type": "stream",
     "text": [
      "[CV] END C=10, coef0=0.5, degree=8, gamma=scale, kernel=sigmoid; total time=   0.1s\n",
      "[CV] END C=10, coef0=0.5, degree=8, gamma=scale, kernel=sigmoid; total time=   0.1s\n"
     ]
    },
    {
     "data": {
      "text/plain": [
       "{'C': 10, 'coef0': 0.01, 'degree': 3, 'gamma': 'auto', 'kernel': 'linear'}"
      ]
     },
     "execution_count": 10,
     "metadata": {
     },
     "output_type": "execute_result"
    }
   ],
   "source": [
    "from sklearn.model_selection import GridSearchCV\n",
    "\n",
    "parameters = {'kernel' : ('linear', 'rbf', 'sigmoid'), 'C' : [1,5,10],'degree' : [3,8],'coef0' : [0.01,10,0.5],'gamma' : ('auto','scale')}\n",
    "\n",
    "optimizer = GridSearchCV(SVR(), param_grid = parameters,cv=5,verbose=2)\n",
    "optimizer.fit(x_train, y_train)\n",
    "optimizer.best_params_"
   ]
  },
  {
   "cell_type": "code",
   "execution_count": 12,
   "metadata": {
    "collapsed": false
   },
   "outputs": [
    {
     "data": {
      "text/plain": [
       "9238.907227466703"
      ]
     },
     "execution_count": 12,
     "metadata": {
     },
     "output_type": "execute_result"
    }
   ],
   "source": [
    "MAE = np.mean(abs(y_test - y_hat))\n",
    "MAE"
   ]
  },
  {
   "cell_type": "code",
   "execution_count": 13,
   "metadata": {
    "collapsed": false
   },
   "outputs": [
    {
     "data": {
      "text/plain": [
       "14367.660276729543"
      ]
     },
     "execution_count": 13,
     "metadata": {
     },
     "output_type": "execute_result"
    }
   ],
   "source": [
    "np.sqrt(((y_hat - y_test) ** 2).mean())"
   ]
  },
  {
   "cell_type": "code",
   "execution_count": 15,
   "metadata": {
    "collapsed": false
   },
   "outputs": [
    {
     "data": {
      "text/html": "<html>\n<head><meta charset=\"utf-8\" /></head>\n<body>\n    <div>            <script src=\"https://cdnjs.cloudflare.com/ajax/libs/mathjax/2.7.5/MathJax.js?config=TeX-AMS-MML_SVG\"></script><script type=\"text/javascript\">if (window.MathJax) {MathJax.Hub.Config({SVG: {font: \"STIX-Web\"}});}</script>                <script type=\"text/javascript\">window.PlotlyConfig = {MathJaxConfig: 'local'};</script>\n        <script src=\"https://cdn.plot.ly/plotly-2.9.0.min.js\"></script>                <div id=\"baa56c65-1737-4595-ac05-5798d10f0dc7\" class=\"plotly-graph-div\" style=\"height:525px; width:100%;\"></div>            <script type=\"text/javascript\">                                    window.PLOTLYENV=window.PLOTLYENV || {};                                    if (document.getElementById(\"baa56c65-1737-4595-ac05-5798d10f0dc7\")) {                    Plotly.newPlot(                        \"baa56c65-1737-4595-ac05-5798d10f0dc7\",                        [{\"hovertemplate\":\"x=%{x}<br>y=%{y}<extra></extra>\",\"legendgroup\":\"\",\"marker\":{\"color\":\"#636efa\",\"symbol\":\"circle\"},\"mode\":\"markers\",\"name\":\"\",\"orientation\":\"v\",\"showlegend\":false,\"x\":[8688.85885,5708.867,11436.73815,38746.3551,4463.2051,9304.7019,38511.6283,2150.469,7345.7266,10264.4421,13415.0381,24393.6224,37607.5277,13063.883,24915.04626,8027.968,1980.07,38709.176,3484.331,3947.4131,1880.07,20773.62775,9800.8882,21082.16,55135.40209,3579.8287,43896.3763,52590.82939,9778.3472,10736.87075,4347.02335,9048.0273,1711.0268,12333.828,63770.42801,9872.701,4687.797,5693.4305,21195.818,8233.0975,2755.02095,19798.05455,42124.5153,9964.06,9193.8385,3161.454,2217.6012,7337.748,4133.64165,6338.0756,4349.462,5757.41345,21771.3423,1391.5287,7160.094,7731.4271,9957.7216,3594.17085,38282.7495,7256.7231,10977.2063,5245.2269,11187.6567,1708.92575,11411.685,11729.6795,6079.6715,37829.7242,16297.846,31620.00106,9991.03765,2203.47185,6858.4796,3167.45585,10796.35025,1728.897,12574.049,4889.9995,9182.17,30259.99556,16796.41194,12592.5345,12741.16745,18806.14547,29523.1656,12925.886,3645.0894,1719.4363,1984.4533,1824.2854,13919.8229,18765.87545,5615.369,1526.312,1743.214,43254.41795,9504.3103,8232.6388,1674.6323,8604.48365,13880.949,12363.547,23244.7902,11264.541,39983.42595,1627.28245,37701.8768,17942.106,12269.68865,4746.344,6313.759,12222.8983,5594.8455,6551.7501,1682.597,1986.9334,2710.82855,1135.9407,1837.2819,10107.2206,44423.803,12404.8791,7152.6714,5934.3798,28340.18885,6875.961,5080.096,13041.921,38126.2465,48824.45,29141.3603,7935.29115,2137.6536,11085.5868,5972.378,4561.1885,42983.4585,19594.80965,17748.5062,2473.3341,5152.134,4564.19145,45863.205,25517.11363,1146.7966,5649.715,11326.71487,7626.993,42969.8527,13555.0049,6571.544,6985.50695,4751.07,14319.031,6593.5083,34439.8559,46113.511,9432.9253,8280.6227,8835.26495,10923.9332,5458.04645,11842.62375,12231.6136,43578.9394,39556.4945,10560.4917,17085.2676,3206.49135,3861.20965,4239.89265,1633.0444,4137.5227,11833.7823,8310.83915,32734.1863,2597.779,8283.6807,8428.0693,10141.1362,14119.62,2855.43755,25992.82104,11830.6072,40003.33225,10594.50155,3597.596,3591.48,2117.33885,38711.0,17878.90068,23887.6627,10564.8845,4562.8421,2198.18985,1131.5066,39125.33225,20177.67113,14001.2867,15230.32405,33750.2918,16577.7795,4889.0368,20781.48892,19933.458,5012.471,7749.1564,7441.501,2690.1138,41949.2441,22478.6,9301.89355,4779.6023,7201.70085,12629.8967,14133.03775,2404.7338,6948.7008,8827.2099,2203.73595,3213.62205,46151.1245,46200.9851,14988.432,9377.9047,46889.2612,41097.16175,9644.2525,34617.84065,4032.2407,12981.3457,35491.64,3877.30425,5979.731,11534.87265,8277.523,13204.28565,1629.8335,3021.80915,3392.9768,3443.064,2699.56835,20277.80751,8932.084,1632.03625,9566.9909,4391.652,7196.867,7323.734819,8410.04685,2719.27975,11658.11505,12146.971,13607.36875,60021.39897,13747.87235,12029.2867,6113.23105,8059.6791,25333.33284,37465.34375,47055.5321,12949.1554,13831.1152,13887.204,3925.7582,47403.88,8534.6718],\"xaxis\":\"x\",\"y\":[9095.138065324,5582.2723055753995,11203.725444261596,18710.444301865115,5428.034593933044,9814.27058565522,16929.526782634246,2247.581587170397,8231.94046019967,10222.772369286084,12125.007488062602,22502.738511169126,18343.10137768692,12218.765496245831,7127.646439270606,8443.565265198455,2019.8421395810983,18953.91062217658,3685.319713176652,4674.65768294921,2147.478162905989,19200.733989873344,10251.094530895922,19337.712706607766,18354.475532099503,3403.6082091727403,21257.50904572745,24176.265117540974,9997.299419380586,10727.55045643453,5199.838090002369,9651.138165342767,1521.9067681495817,11445.576371365394,23550.050935853782,9957.613152702386,3598.173766370308,5708.495340891348,22406.58838226106,8801.870118953488,3186.372170391932,21464.44088805517,21480.436252055653,10194.755314426982,9225.956179078385,3748.4766434564426,2217.7015881855323,7906.636638853948,4551.870371944584,7254.987133179782,4902.075243799542,7083.6852212707145,21179.188452059243,1829.7007742169199,7863.029640497313,8442.963010872742,10096.054896631447,3743.6311518028624,18231.601371036668,7907.647127194015,11021.59761789459,6243.084604042719,10949.360071973662,1586.3988591963916,11226.315149945407,11222.43481572591,7115.974653518688,19907.495503382546,14031.619766175581,13310.493572553287,9862.734265259249,1997.6819068496443,7566.424859151593,2842.3662597944176,10703.391470791155,1389.9921581308972,11880.858417085306,5860.3681846516465,9188.918927654264,11918.85628063331,4608.951585475248,12268.44288369924,12099.807046591799,8298.224149444422,25729.063892278908,12092.604164668806,4508.860675448155,1652.8579803563598,2386.369861374901,2547.2481630947796,12809.497663382519,18558.269281455254,5382.822542278442,1825.1082697112943,1612.933891309417,23094.53335405279,10082.242652659133,8794.727325560389,2328.7004366044393,8945.779658302441,12444.174526849227,11694.20131880018,23172.71198942183,10970.80982623707,20008.14758356183,1535.486421777934,19120.484840959143,16071.192705991147,11722.642894146136,5563.207185619244,7057.098341564108,11522.394138328247,6379.692611711139,6997.448250749836,2251.662797740024,2863.4140659574377,2345.1161341512297,1340.2248363535455,2749.6273092325537,10081.550483027922,23530.505549240857,5454.86922876282,8204.138731931915,6717.2386825316125,8749.428500456648,7540.3702890954655,4639.950704097801,11876.777206515679,15725.85023117275,25341.458865891458,25067.31307030982,8782.445316555632,2889.106370834106,10780.092968075494,6450.753735152471,3617.7999288826595,21120.618503694743,21314.944709674997,14784.20585777066,3147.858418812043,5610.701162478977,4735.828918110613,20831.743035163818,10780.91859452875,1509.270946656863,6592.108100952577,5607.258318924625,8099.427019472198,22001.90056721076,12484.413790547422,7187.353118388779,7357.4349497119,5636.799602396616,12859.906640645988,7340.2027163322755,14674.700976210355,19989.248804900475,10035.671261446938,8959.66546376577,9348.551916108461,10863.767773400497,6180.889407580124,11378.412845896166,11658.107212797106,24133.598886072687,21230.60679596945,10611.617805259371,15182.072535393212,3566.9095800863306,3388.164720498933,4961.164096657489,1791.334368380436,4887.243583836238,11226.094387124193,8724.099505843638,18521.910514946052,2446.6444227329903,9007.284086386424,8739.202266391603,10224.33459780676,12839.419162501157,3334.9600104155506,10706.357112936004,11191.293303825461,20804.70314164323,10473.541342971377,3639.4931725183205,3544.2559272770086,1876.8566734927035,17951.314247585702,3953.486216452173,23156.092562032798,10631.367356693254,5408.871589744273,1915.4315586867024,1271.1778335535855,20282.498800803805,4581.966181285158,12775.39518224343,13735.571600426252,14525.085954218868,16451.653961705415,5996.619594144126,10388.386893432997,16738.377230853624,5786.245266631675,8286.0300355821,8038.504158344418,2977.1278127598016,20309.126892279935,21005.299703594377,9424.814442664729,5625.038385103578,7650.559729729486,11753.665223084097,1772.2869193321849,2652.1525712223274,8038.456022731991,9223.120135159967,2001.794424257796,3677.947550106307,22352.744164450618,21823.17477978386,13026.487706662383,9743.496541888364,25379.655913971514,22310.96923835995,9611.827520215336,14516.366889219173,4677.357212348402,12227.742025899568,17769.788268389126,4242.746369330878,7029.540102668598,10962.566433798282,8710.334990328454,12021.700522675514,1741.3348146287553,3604.37308379612,3947.5865695472285,3344.9720981195806,3450.1655572990003,4752.94475421572,9128.382994260855,1609.511735124578,9619.398664867505,4176.835488125516,7761.0779531219805,1977.1193198089104,8785.188436257044,2476.716691211933,11264.824586988714,11322.270435426577,12620.90665023062,23851.997908134683,14257.278292505887,11371.793222747468,6382.540531937957,8345.050830983033,10344.251492807158,16045.058006769468,25161.108187481175,12240.797108030936,12752.93193072843,12742.638760899667,3869.9712711079,24895.106650816444,8969.65122492018],\"yaxis\":\"y\",\"type\":\"scatter\"}],                        {\"template\":{\"data\":{\"bar\":[{\"error_x\":{\"color\":\"#2a3f5f\"},\"error_y\":{\"color\":\"#2a3f5f\"},\"marker\":{\"line\":{\"color\":\"#E5ECF6\",\"width\":0.5},\"pattern\":{\"fillmode\":\"overlay\",\"size\":10,\"solidity\":0.2}},\"type\":\"bar\"}],\"barpolar\":[{\"marker\":{\"line\":{\"color\":\"#E5ECF6\",\"width\":0.5},\"pattern\":{\"fillmode\":\"overlay\",\"size\":10,\"solidity\":0.2}},\"type\":\"barpolar\"}],\"carpet\":[{\"aaxis\":{\"endlinecolor\":\"#2a3f5f\",\"gridcolor\":\"white\",\"linecolor\":\"white\",\"minorgridcolor\":\"white\",\"startlinecolor\":\"#2a3f5f\"},\"baxis\":{\"endlinecolor\":\"#2a3f5f\",\"gridcolor\":\"white\",\"linecolor\":\"white\",\"minorgridcolor\":\"white\",\"startlinecolor\":\"#2a3f5f\"},\"type\":\"carpet\"}],\"choropleth\":[{\"colorbar\":{\"outlinewidth\":0,\"ticks\":\"\"},\"type\":\"choropleth\"}],\"contour\":[{\"colorbar\":{\"outlinewidth\":0,\"ticks\":\"\"},\"colorscale\":[[0.0,\"#0d0887\"],[0.1111111111111111,\"#46039f\"],[0.2222222222222222,\"#7201a8\"],[0.3333333333333333,\"#9c179e\"],[0.4444444444444444,\"#bd3786\"],[0.5555555555555556,\"#d8576b\"],[0.6666666666666666,\"#ed7953\"],[0.7777777777777778,\"#fb9f3a\"],[0.8888888888888888,\"#fdca26\"],[1.0,\"#f0f921\"]],\"type\":\"contour\"}],\"contourcarpet\":[{\"colorbar\":{\"outlinewidth\":0,\"ticks\":\"\"},\"type\":\"contourcarpet\"}],\"heatmap\":[{\"colorbar\":{\"outlinewidth\":0,\"ticks\":\"\"},\"colorscale\":[[0.0,\"#0d0887\"],[0.1111111111111111,\"#46039f\"],[0.2222222222222222,\"#7201a8\"],[0.3333333333333333,\"#9c179e\"],[0.4444444444444444,\"#bd3786\"],[0.5555555555555556,\"#d8576b\"],[0.6666666666666666,\"#ed7953\"],[0.7777777777777778,\"#fb9f3a\"],[0.8888888888888888,\"#fdca26\"],[1.0,\"#f0f921\"]],\"type\":\"heatmap\"}],\"heatmapgl\":[{\"colorbar\":{\"outlinewidth\":0,\"ticks\":\"\"},\"colorscale\":[[0.0,\"#0d0887\"],[0.1111111111111111,\"#46039f\"],[0.2222222222222222,\"#7201a8\"],[0.3333333333333333,\"#9c179e\"],[0.4444444444444444,\"#bd3786\"],[0.5555555555555556,\"#d8576b\"],[0.6666666666666666,\"#ed7953\"],[0.7777777777777778,\"#fb9f3a\"],[0.8888888888888888,\"#fdca26\"],[1.0,\"#f0f921\"]],\"type\":\"heatmapgl\"}],\"histogram\":[{\"marker\":{\"pattern\":{\"fillmode\":\"overlay\",\"size\":10,\"solidity\":0.2}},\"type\":\"histogram\"}],\"histogram2d\":[{\"colorbar\":{\"outlinewidth\":0,\"ticks\":\"\"},\"colorscale\":[[0.0,\"#0d0887\"],[0.1111111111111111,\"#46039f\"],[0.2222222222222222,\"#7201a8\"],[0.3333333333333333,\"#9c179e\"],[0.4444444444444444,\"#bd3786\"],[0.5555555555555556,\"#d8576b\"],[0.6666666666666666,\"#ed7953\"],[0.7777777777777778,\"#fb9f3a\"],[0.8888888888888888,\"#fdca26\"],[1.0,\"#f0f921\"]],\"type\":\"histogram2d\"}],\"histogram2dcontour\":[{\"colorbar\":{\"outlinewidth\":0,\"ticks\":\"\"},\"colorscale\":[[0.0,\"#0d0887\"],[0.1111111111111111,\"#46039f\"],[0.2222222222222222,\"#7201a8\"],[0.3333333333333333,\"#9c179e\"],[0.4444444444444444,\"#bd3786\"],[0.5555555555555556,\"#d8576b\"],[0.6666666666666666,\"#ed7953\"],[0.7777777777777778,\"#fb9f3a\"],[0.8888888888888888,\"#fdca26\"],[1.0,\"#f0f921\"]],\"type\":\"histogram2dcontour\"}],\"mesh3d\":[{\"colorbar\":{\"outlinewidth\":0,\"ticks\":\"\"},\"type\":\"mesh3d\"}],\"parcoords\":[{\"line\":{\"colorbar\":{\"outlinewidth\":0,\"ticks\":\"\"}},\"type\":\"parcoords\"}],\"pie\":[{\"automargin\":true,\"type\":\"pie\"}],\"scatter\":[{\"marker\":{\"colorbar\":{\"outlinewidth\":0,\"ticks\":\"\"}},\"type\":\"scatter\"}],\"scatter3d\":[{\"line\":{\"colorbar\":{\"outlinewidth\":0,\"ticks\":\"\"}},\"marker\":{\"colorbar\":{\"outlinewidth\":0,\"ticks\":\"\"}},\"type\":\"scatter3d\"}],\"scattercarpet\":[{\"marker\":{\"colorbar\":{\"outlinewidth\":0,\"ticks\":\"\"}},\"type\":\"scattercarpet\"}],\"scattergeo\":[{\"marker\":{\"colorbar\":{\"outlinewidth\":0,\"ticks\":\"\"}},\"type\":\"scattergeo\"}],\"scattergl\":[{\"marker\":{\"colorbar\":{\"outlinewidth\":0,\"ticks\":\"\"}},\"type\":\"scattergl\"}],\"scattermapbox\":[{\"marker\":{\"colorbar\":{\"outlinewidth\":0,\"ticks\":\"\"}},\"type\":\"scattermapbox\"}],\"scatterpolar\":[{\"marker\":{\"colorbar\":{\"outlinewidth\":0,\"ticks\":\"\"}},\"type\":\"scatterpolar\"}],\"scatterpolargl\":[{\"marker\":{\"colorbar\":{\"outlinewidth\":0,\"ticks\":\"\"}},\"type\":\"scatterpolargl\"}],\"scatterternary\":[{\"marker\":{\"colorbar\":{\"outlinewidth\":0,\"ticks\":\"\"}},\"type\":\"scatterternary\"}],\"surface\":[{\"colorbar\":{\"outlinewidth\":0,\"ticks\":\"\"},\"colorscale\":[[0.0,\"#0d0887\"],[0.1111111111111111,\"#46039f\"],[0.2222222222222222,\"#7201a8\"],[0.3333333333333333,\"#9c179e\"],[0.4444444444444444,\"#bd3786\"],[0.5555555555555556,\"#d8576b\"],[0.6666666666666666,\"#ed7953\"],[0.7777777777777778,\"#fb9f3a\"],[0.8888888888888888,\"#fdca26\"],[1.0,\"#f0f921\"]],\"type\":\"surface\"}],\"table\":[{\"cells\":{\"fill\":{\"color\":\"#EBF0F8\"},\"line\":{\"color\":\"white\"}},\"header\":{\"fill\":{\"color\":\"#C8D4E3\"},\"line\":{\"color\":\"white\"}},\"type\":\"table\"}]},\"layout\":{\"annotationdefaults\":{\"arrowcolor\":\"#2a3f5f\",\"arrowhead\":0,\"arrowwidth\":1},\"autotypenumbers\":\"strict\",\"coloraxis\":{\"colorbar\":{\"outlinewidth\":0,\"ticks\":\"\"}},\"colorscale\":{\"diverging\":[[0,\"#8e0152\"],[0.1,\"#c51b7d\"],[0.2,\"#de77ae\"],[0.3,\"#f1b6da\"],[0.4,\"#fde0ef\"],[0.5,\"#f7f7f7\"],[0.6,\"#e6f5d0\"],[0.7,\"#b8e186\"],[0.8,\"#7fbc41\"],[0.9,\"#4d9221\"],[1,\"#276419\"]],\"sequential\":[[0.0,\"#0d0887\"],[0.1111111111111111,\"#46039f\"],[0.2222222222222222,\"#7201a8\"],[0.3333333333333333,\"#9c179e\"],[0.4444444444444444,\"#bd3786\"],[0.5555555555555556,\"#d8576b\"],[0.6666666666666666,\"#ed7953\"],[0.7777777777777778,\"#fb9f3a\"],[0.8888888888888888,\"#fdca26\"],[1.0,\"#f0f921\"]],\"sequentialminus\":[[0.0,\"#0d0887\"],[0.1111111111111111,\"#46039f\"],[0.2222222222222222,\"#7201a8\"],[0.3333333333333333,\"#9c179e\"],[0.4444444444444444,\"#bd3786\"],[0.5555555555555556,\"#d8576b\"],[0.6666666666666666,\"#ed7953\"],[0.7777777777777778,\"#fb9f3a\"],[0.8888888888888888,\"#fdca26\"],[1.0,\"#f0f921\"]]},\"colorway\":[\"#636efa\",\"#EF553B\",\"#00cc96\",\"#ab63fa\",\"#FFA15A\",\"#19d3f3\",\"#FF6692\",\"#B6E880\",\"#FF97FF\",\"#FECB52\"],\"font\":{\"color\":\"#2a3f5f\"},\"geo\":{\"bgcolor\":\"white\",\"lakecolor\":\"white\",\"landcolor\":\"#E5ECF6\",\"showlakes\":true,\"showland\":true,\"subunitcolor\":\"white\"},\"hoverlabel\":{\"align\":\"left\"},\"hovermode\":\"closest\",\"mapbox\":{\"style\":\"light\"},\"paper_bgcolor\":\"white\",\"plot_bgcolor\":\"#E5ECF6\",\"polar\":{\"angularaxis\":{\"gridcolor\":\"white\",\"linecolor\":\"white\",\"ticks\":\"\"},\"bgcolor\":\"#E5ECF6\",\"radialaxis\":{\"gridcolor\":\"white\",\"linecolor\":\"white\",\"ticks\":\"\"}},\"scene\":{\"xaxis\":{\"backgroundcolor\":\"#E5ECF6\",\"gridcolor\":\"white\",\"gridwidth\":2,\"linecolor\":\"white\",\"showbackground\":true,\"ticks\":\"\",\"zerolinecolor\":\"white\"},\"yaxis\":{\"backgroundcolor\":\"#E5ECF6\",\"gridcolor\":\"white\",\"gridwidth\":2,\"linecolor\":\"white\",\"showbackground\":true,\"ticks\":\"\",\"zerolinecolor\":\"white\"},\"zaxis\":{\"backgroundcolor\":\"#E5ECF6\",\"gridcolor\":\"white\",\"gridwidth\":2,\"linecolor\":\"white\",\"showbackground\":true,\"ticks\":\"\",\"zerolinecolor\":\"white\"}},\"shapedefaults\":{\"line\":{\"color\":\"#2a3f5f\"}},\"ternary\":{\"aaxis\":{\"gridcolor\":\"white\",\"linecolor\":\"white\",\"ticks\":\"\"},\"baxis\":{\"gridcolor\":\"white\",\"linecolor\":\"white\",\"ticks\":\"\"},\"bgcolor\":\"#E5ECF6\",\"caxis\":{\"gridcolor\":\"white\",\"linecolor\":\"white\",\"ticks\":\"\"}},\"title\":{\"x\":0.05},\"xaxis\":{\"automargin\":true,\"gridcolor\":\"white\",\"linecolor\":\"white\",\"ticks\":\"\",\"title\":{\"standoff\":15},\"zerolinecolor\":\"white\",\"zerolinewidth\":2},\"yaxis\":{\"automargin\":true,\"gridcolor\":\"white\",\"linecolor\":\"white\",\"ticks\":\"\",\"title\":{\"standoff\":15},\"zerolinecolor\":\"white\",\"zerolinewidth\":2}}},\"xaxis\":{\"anchor\":\"y\",\"domain\":[0.0,1.0],\"title\":{\"text\":\"x\"}},\"yaxis\":{\"anchor\":\"x\",\"domain\":[0.0,1.0],\"title\":{\"text\":\"y\"}},\"legend\":{\"tracegroupgap\":0},\"margin\":{\"t\":60}},                        {\"responsive\": true}                    ).then(function(){\n                            \nvar gd = document.getElementById('baa56c65-1737-4595-ac05-5798d10f0dc7');\nvar x = new MutationObserver(function (mutations, observer) {{\n        var display = window.getComputedStyle(gd).display;\n        if (!display || display === 'none') {{\n            console.log([gd, 'removed!']);\n            Plotly.purge(gd);\n            observer.disconnect();\n        }}\n}});\n\n// Listen for the removal of the full notebook cells\nvar notebookContainer = gd.closest('#notebook-container');\nif (notebookContainer) {{\n    x.observe(notebookContainer, {childList: true});\n}}\n\n// Listen for the clearing of the current output cell\nvar outputEl = gd.closest('.output');\nif (outputEl) {{\n    x.observe(outputEl, {childList: true});\n}}\n\n                        })                };                            </script>        </div>\n</body>\n</html>"
     },
     "execution_count": 15,
     "metadata": {
     },
     "output_type": "execute_result"
    }
   ],
   "source": [
    "px.scatter(x=y_test,y=y_hat)"
   ]
  },
  {
   "cell_type": "code",
   "execution_count": 0,
   "metadata": {
    "collapsed": false
   },
   "outputs": [
   ],
   "source": [
   ]
  }
 ],
 "metadata": {
  "kernelspec": {
   "display_name": "Python 3 (Ubuntu Linux)",
   "language": "python",
   "name": "python3-ubuntu",
   "resource_dir": "/usr/local/share/jupyter/kernels/python3-ubuntu"
  },
  "language_info": {
   "codemirror_mode": {
    "name": "ipython",
    "version": 3
   },
   "file_extension": ".py",
   "mimetype": "text/x-python",
   "name": "python",
   "nbconvert_exporter": "python",
   "pygments_lexer": "ipython3",
   "version": "3.8.10"
  }
 },
 "nbformat": 4,
 "nbformat_minor": 4
}